{
 "cells": [
  {
   "cell_type": "code",
   "execution_count": 1,
   "metadata": {},
   "outputs": [],
   "source": [
    "%matplotlib widget"
   ]
  },
  {
   "cell_type": "code",
   "execution_count": 2,
   "metadata": {},
   "outputs": [],
   "source": [
    "import pandas as pd\n",
    "import numpy as np\n",
    "from sklearn.decomposition import PCA\n",
    "import matplotlib.pyplot as plt\n",
    "from sklearn.linear_model import LogisticRegression\n",
    "from imblearn.over_sampling import RandomOverSampler\n",
    "from sklearn.neural_network import MLPClassifier\n",
    "from sklearn.ensemble import RandomForestClassifier\n",
    "from sklearn.ensemble import ExtraTreesClassifier\n",
    "from sklearn.tree import DecisionTreeClassifier\n",
    "from sklearn.model_selection import StratifiedKFold\n",
    "from sklearn.metrics import PrecisionRecallDisplay\n",
    "\n",
    "import warnings\n",
    "# from sklearn.utils.testing import ignore_warnings\n",
    "from sklearn.exceptions import ConvergenceWarning\n",
    "from warnings import filterwarnings\n",
    "filterwarnings('ignore')\n",
    "from yellowbrick.classifier import ConfusionMatrix"
   ]
  },
  {
   "cell_type": "code",
   "execution_count": 3,
   "metadata": {},
   "outputs": [],
   "source": [
    "df = pd.read_csv('aidata.log',header=None)"
   ]
  },
  {
   "cell_type": "code",
   "execution_count": 4,
   "metadata": {},
   "outputs": [
    {
     "name": "stdout",
     "output_type": "stream",
     "text": [
      "(465, 65)\n",
      "381\n"
     ]
    }
   ],
   "source": [
    "data = df.values[:,:-1]\n",
    "data = data.astype(np.float64)\n",
    "data = (data-np.mean(data))/np.var(data)\n",
    "print(data.shape)\n",
    "label = df.values[:,-1]\n",
    "label = np.where(label==True,np.ones(label.shape),np.zeros(label.shape))\n",
    "print(sum(label==1))\n",
    "folds = []\n",
    "skf = StratifiedKFold(n_splits=5)"
   ]
  },
  {
   "cell_type": "code",
   "execution_count": 5,
   "metadata": {},
   "outputs": [
    {
     "name": "stdout",
     "output_type": "stream",
     "text": [
      "[0.77768298 0.09374853 0.03894302]\n",
      "[6.84391555 2.37621409 1.53150406]\n"
     ]
    },
    {
     "data": {
      "application/vnd.jupyter.widget-view+json": {
       "model_id": "03d760b1e1444f13beca358ca4db7936",
       "version_major": 2,
       "version_minor": 0
      },
      "text/plain": [
       "Canvas(toolbar=Toolbar(toolitems=[('Home', 'Reset original view', 'home', 'home'), ('Back', 'Back to previous …"
      ]
     },
     "metadata": {},
     "output_type": "display_data"
    }
   ],
   "source": [
    "pca = PCA(n_components=3)\n",
    "pca.fit(data)\n",
    "print(pca.explained_variance_ratio_)\n",
    "print(pca.singular_values_)\n",
    "compressed_data = pca.transform(data)\n",
    "# print(compressed_data[label==0])\n",
    "# plt.rcParams[\"figure.figsize\"] = (20,20)\n",
    "fig = plt.figure()\n",
    "ax = plt.axes(projection='3d')\n",
    "ax.scatter3D(compressed_data[label==0.0,0],compressed_data[label==0.0,1], compressed_data[label==0.0,2], marker='o', cmap='Greens')\n",
    "ax.scatter3D(compressed_data[label==1.0,0],compressed_data[label==1.0,1], compressed_data[label==1.0,2], marker='^', cmap='Reds')\n",
    "plt.show()"
   ]
  },
  {
   "cell_type": "code",
   "execution_count": 6,
   "metadata": {},
   "outputs": [
    {
     "name": "stdout",
     "output_type": "stream",
     "text": [
      "The score for True cases are: 0.8026315789473685\n",
      "The score for False cases are: 0.8823529411764706\n",
      "\n",
      "\n",
      "The score for True cases are: 0.75\n",
      "The score for False cases are: 0.7647058823529411\n",
      "\n",
      "\n",
      "The score for True cases are: 0.7105263157894737\n",
      "The score for False cases are: 0.9411764705882353\n",
      "\n",
      "\n",
      "The score for True cases are: 0.5263157894736842\n",
      "The score for False cases are: 0.8823529411764706\n",
      "\n",
      "\n",
      "The score for True cases are: 0.5324675324675324\n",
      "The score for False cases are: 0.5625\n",
      "\n",
      "\n",
      "The score for True cases are: 0.7631578947368421\n",
      "The score for False cases are: 0.6470588235294118\n",
      "\n",
      "\n",
      "The score for True cases are: 0.7105263157894737\n",
      "The score for False cases are: 0.9411764705882353\n",
      "\n",
      "\n",
      "The score for True cases are: 0.5131578947368421\n",
      "The score for False cases are: 0.9411764705882353\n",
      "\n",
      "\n",
      "The score for True cases are: 0.7012987012987013\n",
      "The score for False cases are: 0.5625\n",
      "\n",
      "\n",
      "The score for True cases are: 0.9210526315789473\n",
      "The score for False cases are: 0.8823529411764706\n",
      "\n",
      "\n",
      "The score for True cases are: 0.6842105263157895\n",
      "The score for False cases are: 0.9411764705882353\n",
      "\n",
      "\n",
      "The score for True cases are: 0.5263157894736842\n",
      "The score for False cases are: 0.9411764705882353\n",
      "\n",
      "\n",
      "The score for True cases are: 0.7532467532467533\n",
      "The score for False cases are: 0.5625\n",
      "\n",
      "\n",
      "The score for True cases are: 0.9210526315789473\n",
      "The score for False cases are: 0.8823529411764706\n",
      "\n",
      "\n",
      "The score for True cases are: 0.7105263157894737\n",
      "The score for False cases are: 0.8235294117647058\n",
      "\n",
      "\n",
      "The score for True cases are: 0.4473684210526316\n",
      "The score for False cases are: 0.9411764705882353\n",
      "\n",
      "\n",
      "The score for True cases are: 0.6883116883116883\n",
      "The score for False cases are: 0.625\n",
      "\n",
      "\n",
      "The score for True cases are: 0.9210526315789473\n",
      "The score for False cases are: 0.8823529411764706\n",
      "\n",
      "\n",
      "The score for True cases are: 0.7368421052631579\n",
      "The score for False cases are: 0.8823529411764706\n",
      "\n",
      "\n",
      "The score for True cases are: 0.6447368421052632\n",
      "The score for False cases are: 1.0\n",
      "\n",
      "\n"
     ]
    }
   ],
   "source": [
    "skf_val = StratifiedKFold(n_splits=4)\n",
    "data = compressed_data\n",
    "for train_index, _ in skf.split(data, label):\n",
    "    ros = RandomOverSampler(random_state=0)\n",
    "    train_data = data[train_index]\n",
    "    train_label = label[train_index]\n",
    "    clf = MLPClassifier(hidden_layer_sizes=25, activation='relu', solver='adam', batch_size = 64, learning_rate='adaptive', learning_rate_init=0.001, early_stopping=True, random_state=1, max_iter=300)\n",
    "    for vtrain_index, val_index in skf_val.split(train_data, train_label):\n",
    "        vtrain_data = train_data[vtrain_index]\n",
    "        vtrain_label = train_label[vtrain_index]\n",
    "        val_data = train_data[val_index]\n",
    "        val_label = train_label[val_index]\n",
    "        X, y = ros.fit_resample(train_data, train_label)\n",
    "        # clf = MLPClassifier(random_state=1, max_iter=300)\n",
    "        # clf = RandomForestClassifier(max_depth=4,random_state=0)\n",
    "        with warnings.catch_warnings():\n",
    "            warnings.filterwarnings(\"ignore\", category=ConvergenceWarning, module=\"sklearn\")\n",
    "            clf.fit(X,y)\n",
    "        # print(sum(train_label==0))\n",
    "\n",
    "        print(\"The score for True cases are: \" + str(clf.score(val_data[val_label==1], val_label[val_label==1])))\n",
    "        print(\"The score for False cases are: \" + str(clf.score(val_data[val_label==0], val_label[val_label==0])))\n",
    "        print(\"\\n\")\n",
    "    \n",
    "    "
   ]
  },
  {
   "cell_type": "code",
   "execution_count": 7,
   "metadata": {},
   "outputs": [
    {
     "name": "stdout",
     "output_type": "stream",
     "text": [
      "(93,)\n",
      "(93,)\n",
      "(93,)\n",
      "(93,)\n",
      "(93,)\n"
     ]
    }
   ],
   "source": [
    "for train_index, test_index in skf.split(data, label):\n",
    "    print(test_index.shape)\n",
    "    # print(train_index.shape)\n",
    "    # print(data[test_index].shape)"
   ]
  },
  {
   "cell_type": "code",
   "execution_count": 8,
   "metadata": {},
   "outputs": [
    {
     "data": {
      "text/plain": [
       "MLPClassifier(batch_size=64, hidden_layer_sizes=25, learning_rate='adaptive',\n",
       "              max_iter=300, random_state=1)"
      ]
     },
     "execution_count": 8,
     "metadata": {},
     "output_type": "execute_result"
    }
   ],
   "source": [
    "clf"
   ]
  }
 ],
 "metadata": {
  "interpreter": {
   "hash": "7c00787349a0c05e894f2e370e9da721c1537baf92fd623bd95ba672bd9bda1c"
  },
  "kernelspec": {
   "display_name": "Python 3.7.10 64-bit ('pytorch': conda)",
   "language": "python",
   "name": "python3"
  },
  "language_info": {
   "codemirror_mode": {
    "name": "ipython",
    "version": 3
   },
   "file_extension": ".py",
   "mimetype": "text/x-python",
   "name": "python",
   "nbconvert_exporter": "python",
   "pygments_lexer": "ipython3",
   "version": "3.8.5"
  },
  "orig_nbformat": 4
 },
 "nbformat": 4,
 "nbformat_minor": 2
}
