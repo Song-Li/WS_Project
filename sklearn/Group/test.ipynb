{
 "cells": [
  {
   "cell_type": "code",
   "execution_count": 1,
   "metadata": {},
   "outputs": [],
   "source": [
    "%matplotlib widget"
   ]
  },
  {
   "cell_type": "code",
   "execution_count": 2,
   "metadata": {},
   "outputs": [],
   "source": [
    "import pandas as pd\n",
    "import numpy as np\n",
    "from sklearn.decomposition import PCA\n",
    "import matplotlib.pyplot as plt\n",
    "from sklearn.linear_model import LogisticRegression\n",
    "from imblearn.over_sampling import RandomOverSampler\n",
    "from sklearn.neural_network import MLPClassifier\n",
    "from sklearn.ensemble import RandomForestClassifier\n",
    "from sklearn.ensemble import ExtraTreesClassifier\n",
    "from sklearn.tree import DecisionTreeClassifier\n",
    "from sklearn.model_selection import StratifiedKFold\n",
    "from sklearn.metrics import PrecisionRecallDisplay"
   ]
  },
  {
   "cell_type": "code",
   "execution_count": 3,
   "metadata": {},
   "outputs": [],
   "source": [
    "df = pd.read_csv('aidata.log',header=None)"
   ]
  },
  {
   "cell_type": "code",
   "execution_count": 4,
   "metadata": {},
   "outputs": [
    {
     "name": "stdout",
     "output_type": "stream",
     "text": [
      "(465, 65)\n",
      "381\n"
     ]
    }
   ],
   "source": [
    "data = df.values[:,:-1]\n",
    "data = data.astype(np.float64)\n",
    "data = (data-np.mean(data))/np.var(data)\n",
    "print(data.shape)\n",
    "label = df.values[:,-1]\n",
    "label = np.where(label==True,np.ones(label.shape),np.zeros(label.shape))\n",
    "print(sum(label==1))\n",
    "folds = []\n",
    "skf = StratifiedKFold(n_splits=5)"
   ]
  },
  {
   "cell_type": "code",
   "execution_count": 5,
   "metadata": {},
   "outputs": [
    {
     "name": "stdout",
     "output_type": "stream",
     "text": [
      "[0.77768298 0.09374853 0.03894302]\n",
      "[6.84391555 2.37621409 1.53150406]\n"
     ]
    },
    {
     "data": {
      "application/vnd.jupyter.widget-view+json": {
       "model_id": "20dd1c00531c4f20b55a3b59bff7dc0b",
       "version_major": 2,
       "version_minor": 0
      },
      "text/plain": [
       "Canvas(toolbar=Toolbar(toolitems=[('Home', 'Reset original view', 'home', 'home'), ('Back', 'Back to previous …"
      ]
     },
     "metadata": {},
     "output_type": "display_data"
    }
   ],
   "source": [
    "pca = PCA(n_components=3)\n",
    "pca.fit(data)\n",
    "print(pca.explained_variance_ratio_)\n",
    "print(pca.singular_values_)\n",
    "compressed_data = pca.transform(data)\n",
    "# print(compressed_data[label==0])\n",
    "# plt.rcParams[\"figure.figsize\"] = (20,20)\n",
    "fig = plt.figure()\n",
    "ax = plt.axes(projection='3d')\n",
    "ax.scatter3D(compressed_data[label==0.0,0],compressed_data[label==0.0,1], compressed_data[label==0.0,2], marker='o', cmap='Greens')\n",
    "ax.scatter3D(compressed_data[label==1.0,0],compressed_data[label==1.0,1], compressed_data[label==1.0,2], marker='^', cmap='Reds')\n",
    "plt.show()"
   ]
  },
  {
   "cell_type": "code",
   "execution_count": 6,
   "metadata": {},
   "outputs": [
    {
     "name": "stdout",
     "output_type": "stream",
     "text": [
      "68\n",
      "0.9411764705882353\n",
      "68\n",
      "1.0\n",
      "68\n",
      "1.0\n",
      "68\n",
      "0.9411764705882353\n",
      "67\n",
      "0.6875\n",
      "67\n",
      "1.0\n",
      "67\n",
      "1.0\n",
      "67\n",
      "0.9411764705882353\n",
      "67\n",
      "0.6875\n",
      "67\n",
      "0.9411764705882353\n",
      "67\n",
      "1.0\n",
      "67\n",
      "1.0\n",
      "67\n",
      "0.6875\n",
      "67\n",
      "0.9411764705882353\n",
      "67\n",
      "1.0\n",
      "67\n",
      "1.0\n",
      "67\n",
      "0.6875\n",
      "67\n",
      "0.9411764705882353\n",
      "67\n",
      "1.0\n",
      "67\n",
      "1.0\n"
     ]
    }
   ],
   "source": [
    "skf_val = StratifiedKFold(n_splits=4)\n",
    "data = compressed_data\n",
    "for train_index, _ in skf.split(data, label):\n",
    "    ros = RandomOverSampler(random_state=0)\n",
    "    train_data = data[train_index]\n",
    "    train_label = label[train_index]\n",
    "    for vtrain_index, val_index in skf_val.split(train_data, train_label):\n",
    "        vtrain_data = train_data[vtrain_index]\n",
    "        vtrain_label = train_label[vtrain_index]\n",
    "        val_data = train_data[val_index]\n",
    "        val_label = train_label[val_index]\n",
    "        X, y = ros.fit_resample(train_data, train_label)\n",
    "        clf = RandomForestClassifier(max_depth=4,random_state=0)\n",
    "        clf.fit(X,y)\n",
    "        print(sum(train_label==0))\n",
    "        print(clf.score(val_data[val_label==0], val_label[val_label==0]))\n",
    "    "
   ]
  },
  {
   "cell_type": "code",
   "execution_count": null,
   "metadata": {},
   "outputs": [],
   "source": []
  }
 ],
 "metadata": {
  "interpreter": {
   "hash": "7c00787349a0c05e894f2e370e9da721c1537baf92fd623bd95ba672bd9bda1c"
  },
  "kernelspec": {
   "display_name": "Python 3.7.10 64-bit ('pytorch': conda)",
   "language": "python",
   "name": "python3"
  },
  "language_info": {
   "codemirror_mode": {
    "name": "ipython",
    "version": 3
   },
   "file_extension": ".py",
   "mimetype": "text/x-python",
   "name": "python",
   "nbconvert_exporter": "python",
   "pygments_lexer": "ipython3",
   "version": "3.8.5"
  },
  "orig_nbformat": 4
 },
 "nbformat": 4,
 "nbformat_minor": 2
}
