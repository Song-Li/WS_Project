{
 "cells": [
  {
   "cell_type": "code",
   "execution_count": 1,
   "metadata": {
    "id": "yB8Orgnnm-3k"
   },
   "outputs": [],
   "source": [
    "import numpy as np\n",
    "import torch\n",
    "import torch.nn as nn\n",
    "import torchvision\n",
    "import torchvision.datasets as dataset\n",
    "import torchvision.transforms as transforms\n",
    "import random\n",
    "\n",
    "import matplotlib.pyplot as plt\n",
    "import time\n",
    "%matplotlib inline\n",
    "\n",
    "import matplotlib.pyplot as plt\n",
    "import matplotlib\n",
    "from matplotlib.patches import Polygon\n",
    "from matplotlib.collections import PatchCollection\n",
    "\n",
    "from torch.autograd import Variable\n",
    "import torch.nn.functional as F\n",
    "\n",
    "from sklearn.preprocessing import StandardScaler\n",
    "# from pytorch_lightning.callbacks.early_stopping import EarlyStopping\n"
   ]
  },
  {
   "cell_type": "code",
   "execution_count": 2,
   "metadata": {
    "id": "0C0y-bV74ZNw"
   },
   "outputs": [],
   "source": [
    "file_name = \"aidata.log\"\n",
    "X = []\n",
    "Y = []\n",
    "with open( file_name , \"r\") as file:\n",
    "  for line in file:\n",
    "    line = line.replace(\"[\", \"\")\n",
    "    line = line.replace(\"]\", \",\")\n",
    "    line = line.replace(\"True\", \"1\")\n",
    "    line = line.replace(\"False\", \"0\")\n",
    "    lst = line.split(\",\")\n",
    "    X.append(lst[:-1])\n",
    "    Y.append(lst[-1].strip())\n",
    "    # print(lst[-1])\n",
    "X = np.array(X).astype(int)\n",
    "Y = np.array(Y).astype(int)\n",
    "\n",
    "split_ratio = 0.8\n",
    "split_tr = int(np.ceil(len(X) * split_ratio))\n",
    "split_t = len(X) - split_tr\n",
    "train_data = []\n",
    "val_data = []\n",
    "train_labels = []\n",
    "val_labels = []\n",
    "\n",
    "for i in range(len(Y)):\n",
    "  choice = random.random()\n",
    "  if choice >= 0.7:\n",
    "    val_data.append(X[i])\n",
    "    val_labels.append(Y[i])\n",
    "  else:\n",
    "    train_data.append(X[i])\n",
    "    train_labels.append(Y[i])\n",
    "\n",
    "train_data = np.array(train_data)\n",
    "val_data = np.array(val_data)\n",
    "train_labels = np.array(train_labels)\n",
    "val_labels = np.array(val_labels)\n",
    "  "
   ]
  },
  {
   "cell_type": "code",
   "execution_count": 3,
   "metadata": {
    "id": "SsP4_Wyz4Xtt"
   },
   "outputs": [],
   "source": [
    "gpu_boole = torch.cuda.is_available()\n",
    "batch_size, input_dim, hidden_1, hidden_2, hidden_3, hidden_4, hidden_5, output_dim = 32, len(X[0]), 10, 2, 100, 150, 60, 1\n",
    "\n",
    "# np.random.rand(100)"
   ]
  },
  {
   "cell_type": "code",
   "execution_count": 4,
   "metadata": {
    "colab": {
     "base_uri": "https://localhost:8080/"
    },
    "id": "kGq0q4btm-3q",
    "outputId": "909d9129-68aa-434e-feed-7923d2c91e0e"
   },
   "outputs": [
    {
     "name": "stdout",
     "output_type": "stream",
     "text": [
      "(158, 65) (158,) (65, 65) (65,)\n"
     ]
    }
   ],
   "source": [
    "# train_data, val_data = np.split(X, [split_tr])\n",
    "# train_labels, val_labels = np.split(Y, [split_tr])\n",
    "\n",
    "scaler = StandardScaler()\n",
    "train_data = scaler.fit_transform(train_data)\n",
    "val_data = scaler.fit_transform(val_data)\n",
    "print(train_data.shape, train_labels.shape, val_data.shape, val_labels.shape)"
   ]
  },
  {
   "cell_type": "code",
   "execution_count": 5,
   "metadata": {
    "id": "jTrK4smnm-3t"
   },
   "outputs": [],
   "source": [
    "epochs = 50\n",
    "lr = 0.001"
   ]
  },
  {
   "cell_type": "code",
   "execution_count": 6,
   "metadata": {
    "id": "Kb0OUKDgm-3w"
   },
   "outputs": [],
   "source": [
    "class assign_label(torch.utils.data.Dataset):\n",
    "    def __init__(self, x, y):\n",
    "        self.x = x\n",
    "        self.y = y\n",
    "    def __getitem__(self, i):\n",
    "        return (self.x[i], self.y[i])\n",
    "    def __len__(self):\n",
    "        return len(self.x)"
   ]
  },
  {
   "cell_type": "code",
   "execution_count": 7,
   "metadata": {
    "id": "dqBTPBbkm-3y"
   },
   "outputs": [],
   "source": [
    "training = assign_label(torch.FloatTensor(train_data),\n",
    "                         torch.FloatTensor(train_labels))\n",
    "testing = assign_label(torch.FloatTensor(val_data), torch.FloatTensor(val_labels))"
   ]
  },
  {
   "cell_type": "code",
   "execution_count": 8,
   "metadata": {
    "id": "asEao4hnm-31"
   },
   "outputs": [],
   "source": [
    "train_loader = torch.utils.data.DataLoader(dataset=training, batch_size = batch_size, shuffle=True)\n",
    "test_loader = torch.utils.data.DataLoader(dataset=testing, batch_size = batch_size, shuffle=False)"
   ]
  },
  {
   "cell_type": "code",
   "execution_count": 9,
   "metadata": {
    "id": "dlM0fAn6m-34"
   },
   "outputs": [],
   "source": [
    "class Net(nn.Module):\n",
    "  def __init__(self, input_size, h_1, h_2, h_3, h_4, h_5, num_classes):\n",
    "    super(Net, self).__init__()\n",
    "\n",
    "    ##feedfoward layers:\n",
    "    self.ff1 = nn.Linear(input_size, h_1) #input\n",
    "\n",
    "    self.ff2 = nn.Linear(h_1, h_2) #hidden layers\n",
    "\n",
    "    # self.ff3 = nn.Linear(h_2, h_3)\n",
    "    \n",
    "    # self.ff4 = nn.Linear(h_3, h_4)\n",
    "    \n",
    "    # self.ff5 = nn.Linear(h_4, h_5)\n",
    "    \n",
    "    self.ff_out = nn.Linear(hidden_2, num_classes) #logit layer     \n",
    "\n",
    "    ##activations:\n",
    "    self.sigmoid = nn.Sigmoid()\n",
    "    self.relu = nn.ReLU()\n",
    "                \n",
    "  def forward(self, input_data):\n",
    "    #out = self.relu(self.ff1(input_data))\n",
    "    #out = self.relu(self.ff2(out))\n",
    "    out = self.sigmoid(self.ff1(input_data))\n",
    "    \n",
    "    out = self.sigmoid(self.ff2(out))\n",
    "    # out = self.sigmoid(self.ff3(out))\n",
    "    # out = self.sigmoid(self.ff4(out))\n",
    "    # out = self.sigmoid(self.ff5(out))\n",
    "    \n",
    "    out = self.ff_out(out)\n",
    "    return out #returns class probabilities for each set of data"
   ]
  },
  {
   "cell_type": "code",
   "execution_count": 10,
   "metadata": {
    "id": "yuwGh-mXm-36"
   },
   "outputs": [],
   "source": [
    "net = Net(input_size=input_dim, h_1=hidden_1, h_2=hidden_2, h_3= hidden_3, h_4 = hidden_4, h_5 = hidden_5, num_classes=output_dim)\n",
    "if gpu_boole:\n",
    "    net.cuda()\n",
    "loss_metric = nn.BCEWithLogitsLoss()\n",
    "#optimizer = torch.optim.SGD(net.parameters(), lr = 0.001, momentum = 0.9, weight_decay = 0.001, dampening = 0.000002, nesterov = False)\n",
    "optimizer = torch.optim.Adam(net.parameters(), lr = lr)"
   ]
  },
  {
   "cell_type": "code",
   "execution_count": 11,
   "metadata": {
    "colab": {
     "base_uri": "https://localhost:8080/"
    },
    "id": "ZbxV7Q_hm-39",
    "outputId": "0d11d491-4bbb-4264-dc1a-37c4f192ae87"
   },
   "outputs": [
    {
     "name": "stdout",
     "output_type": "stream",
     "text": [
      "Epoch 1 :\n",
      "Train accuracy: 10.000001 %\n",
      "Train loss: 0.021740\n",
      "Test accuracy: 0.000000 %\n",
      "Test loss: 0.021742\n",
      "Elapsed time for epoch: 0.11596536636352539 s\n",
      "ETA of completion: 0.09470504919687907 minutes\n",
      "Epoch 2 :\n",
      "Train accuracy: 83.333336 %\n",
      "Train loss: 0.021518\n",
      "Test accuracy: 100.000000 %\n",
      "Test loss: 0.021490\n",
      "Elapsed time for epoch: 0.011946678161621094 s\n",
      "ETA of completion: 0.009557342529296875 minutes\n",
      "Epoch 3 :\n",
      "Train accuracy: 100.000000 %\n",
      "Train loss: 0.021296\n",
      "Test accuracy: 100.000000 %\n",
      "Test loss: 0.021250\n",
      "Elapsed time for epoch: 0.012055397033691406 s\n",
      "ETA of completion: 0.009443394343058268 minutes\n",
      "Epoch 4 :\n",
      "Train accuracy: 96.666672 %\n",
      "Train loss: 0.021122\n",
      "Test accuracy: 100.000000 %\n",
      "Test loss: 0.021001\n",
      "Elapsed time for epoch: 0.011584043502807617 s\n",
      "ETA of completion: 0.008881100018819173 minutes\n",
      "Epoch 5 :\n",
      "Train accuracy: 100.000000 %\n",
      "Train loss: 0.020839\n",
      "Test accuracy: 100.000000 %\n",
      "Test loss: 0.020751\n",
      "Elapsed time for epoch: 0.011374473571777344 s\n",
      "ETA of completion: 0.008530855178833008 minutes\n",
      "Epoch 6 :\n",
      "Train accuracy: 100.000000 %\n",
      "Train loss: 0.020613\n",
      "Test accuracy: 100.000000 %\n",
      "Test loss: 0.020506\n",
      "Elapsed time for epoch: 0.011285543441772461 s\n",
      "ETA of completion: 0.008276065190633139 minutes\n",
      "Epoch 7 :\n",
      "Train accuracy: 100.000000 %\n",
      "Train loss: 0.020419\n",
      "Test accuracy: 100.000000 %\n",
      "Test loss: 0.020258\n",
      "Elapsed time for epoch: 0.01138615608215332 s\n",
      "ETA of completion: 0.008160078525543213 minutes\n",
      "Epoch 8 :\n",
      "Train accuracy: 93.333344 %\n",
      "Train loss: 0.020367\n",
      "Test accuracy: 100.000000 %\n",
      "Test loss: 0.020011\n",
      "Elapsed time for epoch: 0.012482643127441406 s\n",
      "ETA of completion: 0.008737850189208984 minutes\n",
      "Epoch 9 :\n",
      "Train accuracy: 100.000000 %\n",
      "Train loss: 0.019994\n",
      "Test accuracy: 100.000000 %\n",
      "Test loss: 0.019766\n",
      "Elapsed time for epoch: 0.011894702911376953 s\n",
      "ETA of completion: 0.008128046989440918 minutes\n",
      "Epoch 10 :\n",
      "Train accuracy: 93.333344 %\n",
      "Train loss: 0.019978\n",
      "Test accuracy: 100.000000 %\n",
      "Test loss: 0.019520\n",
      "Elapsed time for epoch: 0.011165380477905273 s\n",
      "ETA of completion: 0.007443586985270183 minutes\n",
      "Epoch 11 :\n",
      "Train accuracy: 93.333344 %\n",
      "Train loss: 0.019819\n",
      "Test accuracy: 100.000000 %\n",
      "Test loss: 0.019275\n",
      "Elapsed time for epoch: 0.01124429702758789 s\n",
      "ETA of completion: 0.007308793067932129 minutes\n",
      "Epoch 12 :\n",
      "Train accuracy: 93.333344 %\n",
      "Train loss: 0.019746\n",
      "Test accuracy: 100.000000 %\n",
      "Test loss: 0.019030\n",
      "Elapsed time for epoch: 0.011435985565185547 s\n",
      "ETA of completion: 0.0072427908579508465 minutes\n",
      "Epoch 13 :\n",
      "Train accuracy: 100.000000 %\n",
      "Train loss: 0.019176\n",
      "Test accuracy: 100.000000 %\n",
      "Test loss: 0.018784\n",
      "Elapsed time for epoch: 0.011621475219726562 s\n",
      "ETA of completion: 0.007166576385498047 minutes\n",
      "Epoch 14 :\n",
      "Train accuracy: 90.000000 %\n",
      "Train loss: 0.019497\n",
      "Test accuracy: 100.000000 %\n",
      "Test loss: 0.018542\n",
      "Elapsed time for epoch: 0.011610984802246094 s\n",
      "ETA of completion: 0.006966590881347656 minutes\n",
      "Epoch 15 :\n",
      "Train accuracy: 93.333344 %\n",
      "Train loss: 0.018971\n",
      "Test accuracy: 100.000000 %\n",
      "Test loss: 0.018310\n",
      "Elapsed time for epoch: 0.011480093002319336 s\n",
      "ETA of completion: 0.006696720918019612 minutes\n",
      "Epoch 16 :\n",
      "Train accuracy: 96.666672 %\n",
      "Train loss: 0.018665\n",
      "Test accuracy: 100.000000 %\n",
      "Test loss: 0.018077\n",
      "Elapsed time for epoch: 0.011914968490600586 s\n",
      "ETA of completion: 0.006751815478006999 minutes\n",
      "Epoch 17 :\n",
      "Train accuracy: 90.000000 %\n",
      "Train loss: 0.019041\n",
      "Test accuracy: 100.000000 %\n",
      "Test loss: 0.017843\n",
      "Elapsed time for epoch: 0.011728286743164062 s\n",
      "ETA of completion: 0.006450557708740234 minutes\n",
      "Epoch 18 :\n",
      "Train accuracy: 100.000000 %\n",
      "Train loss: 0.018122\n",
      "Test accuracy: 100.000000 %\n",
      "Test loss: 0.017615\n",
      "Elapsed time for epoch: 0.012397289276123047 s\n",
      "ETA of completion: 0.006611887613932292 minutes\n",
      "Epoch 19 :\n",
      "Train accuracy: 100.000000 %\n",
      "Train loss: 0.017707\n",
      "Test accuracy: 100.000000 %\n",
      "Test loss: 0.017389\n",
      "Elapsed time for epoch: 0.011919021606445312 s\n",
      "ETA of completion: 0.006158161163330078 minutes\n",
      "Epoch 20 :\n",
      "Train accuracy: 90.000000 %\n",
      "Train loss: 0.018446\n",
      "Test accuracy: 100.000000 %\n",
      "Test loss: 0.017166\n",
      "Elapsed time for epoch: 0.011628866195678711 s\n",
      "ETA of completion: 0.0058144330978393555 minutes\n",
      "Epoch 21 :\n",
      "Train accuracy: 93.333344 %\n",
      "Train loss: 0.017924\n",
      "Test accuracy: 100.000000 %\n",
      "Test loss: 0.016946\n",
      "Elapsed time for epoch: 0.011584281921386719 s\n",
      "ETA of completion: 0.005599069595336914 minutes\n",
      "Epoch 22 :\n",
      "Train accuracy: 93.333344 %\n",
      "Train loss: 0.017478\n",
      "Test accuracy: 100.000000 %\n",
      "Test loss: 0.016731\n",
      "Elapsed time for epoch: 0.011668205261230469 s\n",
      "ETA of completion: 0.005445162455240886 minutes\n",
      "Epoch 23 :\n",
      "Train accuracy: 96.666672 %\n",
      "Train loss: 0.017472\n",
      "Test accuracy: 100.000000 %\n",
      "Test loss: 0.016521\n",
      "Elapsed time for epoch: 0.011302471160888672 s\n",
      "ETA of completion: 0.0050861120223999025 minutes\n",
      "Epoch 24 :\n",
      "Train accuracy: 96.666672 %\n",
      "Train loss: 0.017032\n",
      "Test accuracy: 100.000000 %\n",
      "Test loss: 0.016314\n",
      "Elapsed time for epoch: 0.011381387710571289 s\n",
      "ETA of completion: 0.004931934674580892 minutes\n",
      "Epoch 25 :\n",
      "Train accuracy: 100.000000 %\n",
      "Train loss: 0.016646\n",
      "Test accuracy: 100.000000 %\n",
      "Test loss: 0.016115\n",
      "Elapsed time for epoch: 0.012202262878417969 s\n",
      "ETA of completion: 0.00508427619934082 minutes\n",
      "Epoch 26 :\n",
      "Train accuracy: 96.666672 %\n",
      "Train loss: 0.016836\n",
      "Test accuracy: 100.000000 %\n",
      "Test loss: 0.015917\n",
      "Elapsed time for epoch: 0.011219024658203125 s\n",
      "ETA of completion: 0.00448760986328125 minutes\n",
      "Epoch 27 :\n",
      "Train accuracy: 90.000000 %\n",
      "Train loss: 0.017286\n",
      "Test accuracy: 100.000000 %\n",
      "Test loss: 0.015720\n",
      "Elapsed time for epoch: 0.01146554946899414 s\n",
      "ETA of completion: 0.004395127296447754 minutes\n",
      "Epoch 28 :\n",
      "Train accuracy: 96.666672 %\n",
      "Train loss: 0.016476\n",
      "Test accuracy: 100.000000 %\n",
      "Test loss: 0.015532\n",
      "Elapsed time for epoch: 0.011585235595703125 s\n",
      "ETA of completion: 0.004247919718424479 minutes\n",
      "Epoch 29 :\n",
      "Train accuracy: 96.666672 %\n",
      "Train loss: 0.016437\n",
      "Test accuracy: 100.000000 %\n",
      "Test loss: 0.015345\n",
      "Elapsed time for epoch: 0.011596918106079102 s\n",
      "ETA of completion: 0.004058921337127685 minutes\n",
      "Epoch 30 :\n",
      "Train accuracy: 86.666672 %\n",
      "Train loss: 0.017497\n",
      "Test accuracy: 100.000000 %\n",
      "Test loss: 0.015162\n",
      "Elapsed time for epoch: 0.011691093444824219 s\n",
      "ETA of completion: 0.0038970311482747397 minutes\n",
      "Epoch 31 :\n",
      "Train accuracy: 90.000000 %\n",
      "Train loss: 0.016794\n",
      "Test accuracy: 100.000000 %\n",
      "Test loss: 0.014985\n",
      "Elapsed time for epoch: 0.011531591415405273 s\n",
      "ETA of completion: 0.0036516706148783367 minutes\n",
      "Epoch 32 :\n",
      "Train accuracy: 100.000000 %\n",
      "Train loss: 0.015450\n",
      "Test accuracy: 100.000000 %\n",
      "Test loss: 0.014810\n",
      "Elapsed time for epoch: 0.011382341384887695 s\n",
      "ETA of completion: 0.0034147024154663084 minutes\n",
      "Epoch 33 :\n",
      "Train accuracy: 96.666672 %\n",
      "Train loss: 0.015732\n",
      "Test accuracy: 100.000000 %\n",
      "Test loss: 0.014638\n",
      "Elapsed time for epoch: 0.011220693588256836 s\n",
      "ETA of completion: 0.00317919651667277 minutes\n",
      "Epoch 34 :\n",
      "Train accuracy: 93.333344 %\n",
      "Train loss: 0.016153\n",
      "Test accuracy: 100.000000 %\n",
      "Test loss: 0.014470\n",
      "Elapsed time for epoch: 0.011321306228637695 s\n",
      "ETA of completion: 0.0030190149943033853 minutes\n",
      "Epoch 35 :\n",
      "Train accuracy: 96.666672 %\n",
      "Train loss: 0.015661\n",
      "Test accuracy: 100.000000 %\n",
      "Test loss: 0.014309\n",
      "Elapsed time for epoch: 0.011718511581420898 s\n",
      "ETA of completion: 0.0029296278953552246 minutes\n",
      "Epoch 36 :\n",
      "Train accuracy: 100.000000 %\n",
      "Train loss: 0.014608\n",
      "Test accuracy: 100.000000 %\n",
      "Test loss: 0.014147\n",
      "Elapsed time for epoch: 0.012246847152709961 s\n",
      "ETA of completion: 0.0028575976689656575 minutes\n",
      "Epoch 37 :\n",
      "Train accuracy: 93.333344 %\n",
      "Train loss: 0.015530\n",
      "Test accuracy: 100.000000 %\n",
      "Test loss: 0.013988\n",
      "Elapsed time for epoch: 0.01157999038696289 s\n",
      "ETA of completion: 0.002508997917175293 minutes\n",
      "Epoch 38 :\n",
      "Train accuracy: 96.666672 %\n",
      "Train loss: 0.015220\n",
      "Test accuracy: 100.000000 %\n",
      "Test loss: 0.013834\n",
      "Elapsed time for epoch: 0.011155128479003906 s\n",
      "ETA of completion: 0.0022310256958007813 minutes\n",
      "Epoch 39 :\n",
      "Train accuracy: 93.333344 %\n",
      "Train loss: 0.015343\n",
      "Test accuracy: 100.000000 %\n",
      "Test loss: 0.013686\n",
      "Elapsed time for epoch: 0.011082649230957031 s\n",
      "ETA of completion: 0.002031819025675456 minutes\n",
      "Epoch 40 :\n",
      "Train accuracy: 96.666672 %\n",
      "Train loss: 0.014701\n",
      "Test accuracy: 100.000000 %\n",
      "Test loss: 0.013540\n",
      "Elapsed time for epoch: 0.01138448715209961 s\n",
      "ETA of completion: 0.0018974145253499348 minutes\n",
      "Epoch 41 :\n",
      "Train accuracy: 100.000000 %\n",
      "Train loss: 0.014108\n",
      "Test accuracy: 100.000000 %\n",
      "Test loss: 0.013396\n",
      "Elapsed time for epoch: 0.01143646240234375 s\n",
      "ETA of completion: 0.0017154693603515625 minutes\n",
      "Epoch 42 :\n",
      "Train accuracy: 96.666672 %\n",
      "Train loss: 0.014555\n",
      "Test accuracy: 100.000000 %\n",
      "Test loss: 0.013259\n",
      "Elapsed time for epoch: 0.011038064956665039 s\n",
      "ETA of completion: 0.0014717419942220052 minutes\n",
      "Epoch 43 :\n",
      "Train accuracy: 96.666672 %\n",
      "Train loss: 0.014105\n",
      "Test accuracy: 100.000000 %\n",
      "Test loss: 0.013119\n",
      "Elapsed time for epoch: 0.011107444763183594 s\n",
      "ETA of completion: 0.0012958685557047525 minutes\n",
      "Epoch 44 :\n",
      "Train accuracy: 86.666672 %\n",
      "Train loss: 0.015751\n",
      "Test accuracy: 100.000000 %\n",
      "Test loss: 0.012980\n",
      "Elapsed time for epoch: 0.011280059814453125 s\n",
      "ETA of completion: 0.0011280059814453125 minutes\n",
      "Epoch 45 :\n",
      "Train accuracy: 93.333344 %\n",
      "Train loss: 0.014381\n",
      "Test accuracy: 100.000000 %\n",
      "Test loss: 0.012848\n",
      "Elapsed time for epoch: 0.011311054229736328 s\n",
      "ETA of completion: 0.0009425878524780273 minutes\n",
      "Epoch 46 :\n",
      "Train accuracy: 90.000000 %\n",
      "Train loss: 0.015032\n",
      "Test accuracy: 100.000000 %\n",
      "Test loss: 0.012715\n",
      "Elapsed time for epoch: 0.011131763458251953 s\n",
      "ETA of completion: 0.0007421175638834635 minutes\n",
      "Epoch 47 :\n",
      "Train accuracy: 96.666672 %\n",
      "Train loss: 0.013480\n",
      "Test accuracy: 100.000000 %\n",
      "Test loss: 0.012587\n",
      "Elapsed time for epoch: 0.011121034622192383 s\n",
      "ETA of completion: 0.0005560517311096191 minutes\n",
      "Epoch 48 :\n",
      "Train accuracy: 93.333344 %\n",
      "Train loss: 0.014226\n",
      "Test accuracy: 100.000000 %\n",
      "Test loss: 0.012461\n",
      "Elapsed time for epoch: 0.011156320571899414 s\n",
      "ETA of completion: 0.00037187735239664713 minutes\n",
      "Epoch 49 :\n",
      "Train accuracy: 96.666672 %\n",
      "Train loss: 0.013344\n",
      "Test accuracy: 100.000000 %\n",
      "Test loss: 0.012337\n",
      "Elapsed time for epoch: 0.011639118194580078 s\n",
      "ETA of completion: 0.0001939853032430013 minutes\n",
      "Epoch 50 :\n",
      "Train accuracy: 93.333344 %\n",
      "Train loss: 0.014080\n",
      "Test accuracy: 100.000000 %\n",
      "Test loss: 0.012217\n",
      "Elapsed time for epoch: 0.01132345199584961 s\n",
      "ETA of completion: 0.0 minutes\n",
      "Time elapsed: 0.011814387639363606 minutes\n"
     ]
    }
   ],
   "source": [
    "def weights_init(m):\n",
    "    if isinstance(m, nn.Conv2d) or isinstance(m, nn.Linear):\n",
    "        torch.nn.init.xavier_uniform(m.weight.data)\n",
    "torch.manual_seed(4)\n",
    "weights_init(net)\n",
    "net.train()\n",
    "\n",
    "loss_batch_store = []\n",
    "time_start = time.time()\n",
    "training_acc_store = []\n",
    "testing_acc_store = []\n",
    "testing_loss_store = []\n",
    "test_acc_max = 0.0\n",
    "count = 0\n",
    "ending_epoch = 0\n",
    "for epoch in range(epochs):\n",
    "    current_loss = 0\n",
    "    correct = 0\n",
    "    testing_acc = 0\n",
    "    testing_loss = 0\n",
    "    time1 = time.time()\n",
    "    for i, (x, y) in enumerate(train_loader):\n",
    "        \n",
    "        if gpu_boole:\n",
    "            x = x.cuda()\n",
    "            y = y.cuda()\n",
    "        optimizer.zero_grad()\n",
    "        \n",
    "        outputs = net.forward(x)\n",
    "        loss = loss_metric(outputs, y.unsqueeze(1))\n",
    "        loss.backward()\n",
    "        optimizer.step()\n",
    "        \n",
    "#         current_loss = loss.item()\n",
    "#         rounded = torch.round(torch.sigmoid(outputs))\n",
    "        \n",
    "#         correct = 100 * (((rounded == y.unsqueeze(1)).sum().float()) / y.size(0))\n",
    "            \n",
    "#         if i > 0 or epoch > 0:\n",
    "#             loss_batch_store.append(loss.cpu().data.numpy().item())\n",
    "#         if i > 0 or epoch > 0:\n",
    "#             training_acc_store.append(correct.cpu().data.numpy())\n",
    "        \n",
    "    for d, l in train_loader:\n",
    "\n",
    "        if gpu_boole:\n",
    "            d = d.cuda()\n",
    "            l = l.cuda()\n",
    "        outputs = net.forward(d)\n",
    "        loss = loss_metric(outputs, l.unsqueeze(1))\n",
    "\n",
    "        current_loss = loss.item()\n",
    "        # print(loss.grad)\n",
    "        rounded_train = torch.round(torch.sigmoid(outputs))\n",
    "        \n",
    "        correct = 100 * (((rounded_train == l.unsqueeze(1)).sum().float()) / l.size(0))\n",
    "        \n",
    "        \n",
    "            \n",
    "    for d, l in test_loader:\n",
    "\n",
    "        if gpu_boole:\n",
    "            d = d.cuda()\n",
    "            l = l.cuda()\n",
    "        outputs_test = net.forward(d)\n",
    "        loss_test = loss_metric(outputs_test, l.unsqueeze(1))\n",
    "\n",
    "        testing_loss = loss_test.item()\n",
    "        rounded_test = torch.round(torch.sigmoid(outputs_test))\n",
    "        \n",
    "        testing_acc = 100 * (((rounded_test == l.unsqueeze(1)).sum().float()) / l.size(0))\n",
    "        \n",
    "        \n",
    "    \n",
    "    time2 = time.time()\n",
    "    if i > 0 or epoch > 0:\n",
    "            training_acc_store.append(correct.cpu().data.numpy())\n",
    "    if i > 0 or epoch > 0:\n",
    "            loss_batch_store.append(current_loss) \n",
    "    if i > 0 or epoch > 0:\n",
    "            testing_acc_store.append(testing_acc.cpu().data.numpy())\n",
    "    if i > 0 or epoch > 0:\n",
    "            testing_loss_store.append(testing_loss)\n",
    "    # if testing_acc > test_acc_max:\n",
    "    #   test_acc_max = testing_acc\n",
    "    #   count = 0\n",
    "    # else:\n",
    "    #   count += 1\n",
    "    \n",
    "    print(\"Epoch\",epoch+1,':')\n",
    "    \n",
    "    print('Train accuracy: %f %%' % (correct))\n",
    "    print('Train loss: %f' % (current_loss / batch_size))\n",
    "    \n",
    "    print('Test accuracy: %f %%' % (testing_acc))\n",
    "    print('Test loss: %f' % (testing_loss / batch_size))\n",
    "    \n",
    "    print('Elapsed time for epoch:',time2 - time1,'s')\n",
    "    print('ETA of completion:',(time2 - time1)*(epochs - epoch - 1)/60,'minutes')\n",
    "    # if count >= 5:\n",
    "    #   print(\"Activating Early Stopping!\")\n",
    "    #   ending_epoch = epoch\n",
    "    #   break\n",
    "\n",
    "time_end = time.time()\n",
    "print ('Time elapsed:', (time_end - time_start) / 60, 'minutes')\n",
    "# print(\"Training completed after \" + str(ending_epoch) + \" epochs.\")    "
   ]
  },
  {
   "cell_type": "code",
   "execution_count": 12,
   "metadata": {
    "colab": {
     "base_uri": "https://localhost:8080/"
    },
    "id": "sJeiQi_Fm-3_",
    "outputId": "f3a99df3-1199-4a53-f70e-6bf98d57003c"
   },
   "outputs": [
    {
     "name": "stdout",
     "output_type": "stream",
     "text": [
      "Test accuracy: 92.307693 %\n",
      "Test loss: 0.014430\n"
     ]
    }
   ],
   "source": [
    "net.eval()\n",
    "\n",
    "x = torch.FloatTensor(val_data)      \n",
    "y = torch.FloatTensor(val_labels)\n",
    "\n",
    "if gpu_boole:\n",
    "    x = x.cuda()\n",
    "    y = y.cuda()\n",
    "outputs = net.forward(x)\n",
    "loss = loss_metric(outputs, y.unsqueeze(1))\n",
    "\n",
    "current_loss = loss.item()\n",
    "rounded = torch.round(torch.sigmoid(outputs))\n",
    "        \n",
    "correct = 100 * (((rounded == y.unsqueeze(1)).sum().float()) / y.size(0))\n",
    "\n",
    "print('Test accuracy: %f %%' % (correct))\n",
    "print('Test loss: %f' % (current_loss / batch_size))"
   ]
  },
  {
   "cell_type": "code",
   "execution_count": 13,
   "metadata": {
    "colab": {
     "base_uri": "https://localhost:8080/",
     "height": 279
    },
    "id": "HQ-Verp_m-4C",
    "outputId": "c0f8e59e-580f-46c9-8760-dbcc6d4d87a8"
   },
   "outputs": [
    {
     "data": {
      "image/png": "[encoded data removed]",
      "text/plain": [
       "<Figure size 432x288 with 1 Axes>"
      ]
     },
     "metadata": {
      "needs_background": "light"
     },
     "output_type": "display_data"
    }
   ],
   "source": [
    "plt.plot(loss_batch_store, '-o', label = 'train_loss', color = 'blue')\n",
    "plt.xlabel('Epoch Number')\n",
    "plt.ylabel('Training Loss for seed 4')\n",
    "plt.legend()\n",
    "plt.show()"
   ]
  },
  {
   "cell_type": "code",
   "execution_count": 14,
   "metadata": {
    "colab": {
     "base_uri": "https://localhost:8080/",
     "height": 279
    },
    "id": "GQ3qbKB0m-4E",
    "outputId": "a1b652ef-8fb3-48fc-b9db-c336151554f4"
   },
   "outputs": [
    {
     "data": {
      "image/png": "[encoded data removed]",
      "text/plain": [
       "<Figure size 432x288 with 1 Axes>"
      ]
     },
     "metadata": {
      "needs_background": "light"
     },
     "output_type": "display_data"
    }
   ],
   "source": [
    "plt.plot(training_acc_store, '-o', label = 'train_accuracy', color = 'blue')\n",
    "plt.xlabel('Epoch Number')\n",
    "plt.ylabel('Training Accuracy for seed 4')\n",
    "plt.legend()\n",
    "plt.show()"
   ]
  },
  {
   "cell_type": "code",
   "execution_count": 15,
   "metadata": {
    "colab": {
     "base_uri": "https://localhost:8080/",
     "height": 279
    },
    "id": "N1yJ1XNEm-4K",
    "outputId": "7dab04be-8bf6-43a6-80c6-629400b65496"
   },
   "outputs": [
    {
     "data": {
      "image/png": "[encoded data removed]",
      "text/plain": [
       "<Figure size 432x288 with 1 Axes>"
      ]
     },
     "metadata": {
      "needs_background": "light"
     },
     "output_type": "display_data"
    }
   ],
   "source": [
    "plt.plot(testing_loss_store, '-o', label = 'test_loss', color = 'blue')\n",
    "plt.xlabel('Epoch Number')\n",
    "plt.ylabel('Testing Loss for seed 4')\n",
    "plt.legend()\n",
    "plt.show()"
   ]
  },
  {
   "cell_type": "code",
   "execution_count": 16,
   "metadata": {
    "colab": {
     "base_uri": "https://localhost:8080/",
     "height": 281
    },
    "id": "AC5SiKnCm-4N",
    "outputId": "68010ba6-767e-4b37-b702-6ed58854e770"
   },
   "outputs": [
    {
     "data": {
      "image/png": "[encoded data removed]",
      "text/plain": [
       "<Figure size 432x288 with 1 Axes>"
      ]
     },
     "metadata": {
      "needs_background": "light"
     },
     "output_type": "display_data"
    }
   ],
   "source": [
    "plt.plot(testing_acc_store, '-o', label = 'test_accuracy', color = 'blue')\n",
    "plt.xlabel('Epoch Number')\n",
    "plt.ylabel('Testing Accuracy for seed 4')\n",
    "plt.legend()\n",
    "plt.show()"
   ]
  },
  {
   "cell_type": "code",
   "execution_count": 17,
   "metadata": {
    "colab": {
     "base_uri": "https://localhost:8080/"
    },
    "id": "pZNsx0wqpwVn",
    "outputId": "9548c96a-31ba-4407-9ed2-77490a6b986f"
   },
   "outputs": [
    {
     "name": "stdout",
     "output_type": "stream",
     "text": [
      "The mean for Train Accuracy: 93.400002\n",
      "The mean for Train Loss: 0.554506\n",
      "The mean for Test Accuracy: 98.000000\n",
      "The mean for Test Loss: 0.524131\n"
     ]
    }
   ],
   "source": [
    "print ('The mean for Train Accuracy: %f' % (np.mean(np.array(training_acc_store))))\n",
    "print ('The mean for Train Loss: %f' % (np.mean(np.array(loss_batch_store))))\n",
    "print ('The mean for Test Accuracy: %f' % (np.mean(np.array(testing_acc_store))))\n",
    "print ('The mean for Test Loss: %f' % (np.mean(np.array(testing_loss_store))))"
   ]
  },
  {
   "cell_type": "code",
   "execution_count": 18,
   "metadata": {
    "colab": {
     "base_uri": "https://localhost:8080/"
    },
    "id": "WEow7B0npxJc",
    "outputId": "4d1bb4a3-b91e-488e-f17c-8ee3c88135ee"
   },
   "outputs": [
    {
     "name": "stdout",
     "output_type": "stream",
     "text": [
      "The standard deviation for Train Accuracy: 12.569629\n",
      "The standard deviation for Train Loss: 0.076769\n",
      "The standard deviation for Test Accuracy: 14.000000\n",
      "The standard deviation for Test Loss: 0.091174\n"
     ]
    }
   ],
   "source": [
    "print ('The standard deviation for Train Accuracy: %f' % (np.std(np.array(training_acc_store))))\n",
    "print ('The standard deviation for Train Loss: %f' % (np.mean(np.std(loss_batch_store))))\n",
    "print ('The standard deviation for Test Accuracy: %f' % (np.std(np.array(testing_acc_store))))\n",
    "print ('The standard deviation for Test Loss: %f' % (np.std(np.array(testing_loss_store))))"
   ]
  },
  {
   "cell_type": "code",
   "execution_count": 19,
   "metadata": {
    "colab": {
     "base_uri": "https://localhost:8080/"
    },
    "id": "eiBYcUoJDp4H",
    "outputId": "45849054-b2fe-449e-f18d-b0e0b49f69ca"
   },
   "outputs": [
    {
     "name": "stdout",
     "output_type": "stream",
     "text": [
      "(array([ 3, 17, 26, 46, 62]),)\n",
      "(array([], dtype=int64),)\n"
     ]
    }
   ],
   "source": [
    "torch.save(net.state_dict(), \"linear_model\")\n",
    "print(np.where(val_labels==0))\n",
    "pred = rounded.detach().cpu().numpy()[:, 0]\n",
    "print(np.where(pred==0))"
   ]
  },
  {
   "cell_type": "code",
   "execution_count": 20,
   "metadata": {
    "colab": {
     "base_uri": "https://localhost:8080/"
    },
    "id": "XugaEdD7INQ3",
    "outputId": "e4f8d746-2148-4835-94c7-44c408618e86"
   },
   "outputs": [
    {
     "name": "stdout",
     "output_type": "stream",
     "text": [
      "The percentage of false in the dataset is 5.381165919282512\n"
     ]
    }
   ],
   "source": [
    "false_percentage = len(np.where(Y == 0)[0]) / len(Y) * 100\n",
    "print(\"The percentage of false in the dataset is \" + str(false_percentage))"
   ]
  },
  {
   "cell_type": "code",
   "execution_count": 21,
   "metadata": {},
   "outputs": [
    {
     "name": "stdout",
     "output_type": "stream",
     "text": [
      "The accuracy of True cases are: 100.0%\n",
      "The accuracy of False cases are: 0.0%\n"
     ]
    }
   ],
   "source": [
    "count_t = 0\n",
    "count_f = 0\n",
    "correct_t = 0\n",
    "correct_f = 0\n",
    "\n",
    "for i in range(len(pred)):\n",
    "    tmp_pred = pred[i]\n",
    "    tmp_tgt = val_labels[i]\n",
    "    \n",
    "    if tmp_tgt == 1:\n",
    "        count_t += 1\n",
    "        if tmp_tgt == tmp_pred:\n",
    "            correct_t += 1\n",
    "    else:\n",
    "        count_f += 1\n",
    "        if tmp_tgt == tmp_pred:\n",
    "            correct_f += 1\n",
    "    \n",
    "print(\"The accuracy of True cases are: \" + str(100 * (correct_t / count_t)) + \"%\")\n",
    "print(\"The accuracy of False cases are: \" + str(100 * (correct_f / count_f)) + \"%\")"
   ]
  },
  {
   "cell_type": "code",
   "execution_count": null,
   "metadata": {},
   "outputs": [],
   "source": []
  }
 ],
 "metadata": {
  "accelerator": "GPU",
  "colab": {
   "collapsed_sections": [],
   "name": "WS_Project.ipynb",
   "provenance": []
  },
  "kernelspec": {
   "display_name": "Python 3",
   "language": "python",
   "name": "python3"
  },
  "language_info": {
   "codemirror_mode": {
    "name": "ipython",
    "version": 3
   },
   "file_extension": ".py",
   "mimetype": "text/x-python",
   "name": "python",
   "nbconvert_exporter": "python",
   "pygments_lexer": "ipython3",
   "version": "3.8.5"
  }
 },
 "nbformat": 4,
 "nbformat_minor": 4
}
