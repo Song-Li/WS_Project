{
  "nbformat": 4,
  "nbformat_minor": 0,
  "metadata": {
    "kernelspec": {
      "display_name": "Python 3",
      "language": "python",
      "name": "python3"
    },
    "language_info": {
      "codemirror_mode": {
        "name": "ipython",
        "version": 3
      },
      "file_extension": ".py",
      "mimetype": "text/x-python",
      "name": "python",
      "nbconvert_exporter": "python",
      "pygments_lexer": "ipython3",
      "version": "3.7.5"
    },
    "colab": {
      "name": "WS_Project.ipynb",
      "provenance": [],
      "collapsed_sections": []
    },
    "accelerator": "GPU"
  },
  "cells": [
    {
      "cell_type": "code",
      "metadata": {
        "id": "yB8Orgnnm-3k"
      },
      "source": [
        "import numpy as np\n",
        "import torch\n",
        "import torch.nn as nn\n",
        "import torchvision\n",
        "import torchvision.datasets as dataset\n",
        "import torchvision.transforms as transforms\n",
        "import random\n",
        "\n",
        "import matplotlib.pyplot as plt\n",
        "import time\n",
        "%matplotlib inline\n",
        "\n",
        "import matplotlib.pyplot as plt\n",
        "import matplotlib\n",
        "from matplotlib.patches import Polygon\n",
        "from matplotlib.collections import PatchCollection\n",
        "\n",
        "from torch.autograd import Variable\n",
        "import torch.nn.functional as F\n",
        "\n",
        "from sklearn.preprocessing import StandardScaler\n",
        "# from pytorch_lightning.callbacks.early_stopping import EarlyStopping\n"
      ],
      "execution_count": 1,
      "outputs": []
    },
    {
      "cell_type": "code",
      "metadata": {
        "id": "0C0y-bV74ZNw"
      },
      "source": [
        "file_name = \"aidata.log\"\n",
        "X = []\n",
        "Y = []\n",
        "with open( file_name , \"r\") as file:\n",
        "  for line in file:\n",
        "    line = line.replace(\"[\", \"\")\n",
        "    line = line.replace(\"]\", \",\")\n",
        "    line = line.replace(\"True\", \"1\")\n",
        "    line = line.replace(\"False\", \"0\")\n",
        "    lst = line.split(\",\")\n",
        "    X.append(lst[:-1])\n",
        "    Y.append(lst[-1].strip())\n",
        "    # print(lst[-1])\n",
        "X = np.array(X).astype(int)\n",
        "Y = np.array(Y).astype(int)\n",
        "\n",
        "split_ratio = 0.8\n",
        "split_tr = int(np.ceil(len(X) * split_ratio))\n",
        "split_t = len(X) - split_tr\n",
        "train_data = []\n",
        "val_data = []\n",
        "train_labels = []\n",
        "val_labels = []\n",
        "\n",
        "for i in range(len(Y)):\n",
        "  choice = random.random()\n",
        "  if choice >= 0.6:\n",
        "    val_data.append(X[i])\n",
        "    val_labels.append(Y[i])\n",
        "  else:\n",
        "    train_data.append(X[i])\n",
        "    train_labels.append(Y[i])\n",
        "\n",
        "train_data = np.array(train_data)\n",
        "val_data = np.array(val_data)\n",
        "train_labels = np.array(train_labels)\n",
        "val_labels = np.array(val_labels)\n",
        "  "
      ],
      "execution_count": 2,
      "outputs": []
    },
    {
      "cell_type": "code",
      "metadata": {
        "id": "SsP4_Wyz4Xtt"
      },
      "source": [
        "gpu_boole = torch.cuda.is_available()\n",
        "batch_size, input_dim, hidden_1, hidden_2, hidden_3, hidden_4, hidden_5, output_dim = 32, len(X[0]), 10, 2, 100, 150, 60, 1\n",
        "\n",
        "# np.random.rand(100)"
      ],
      "execution_count": 3,
      "outputs": []
    },
    {
      "cell_type": "code",
      "metadata": {
        "id": "kGq0q4btm-3q",
        "colab": {
          "base_uri": "https://localhost:8080/"
        },
        "outputId": "909d9129-68aa-434e-feed-7923d2c91e0e"
      },
      "source": [
        "# train_data, val_data = np.split(X, [split_tr])\n",
        "# train_labels, val_labels = np.split(Y, [split_tr])\n",
        "\n",
        "scaler = StandardScaler()\n",
        "train_data = scaler.fit_transform(train_data)\n",
        "val_data = scaler.fit_transform(val_data)\n",
        "print(train_data.shape, train_labels.shape, val_data.shape, val_labels.shape)"
      ],
      "execution_count": 4,
      "outputs": [
        {
          "output_type": "stream",
          "name": "stdout",
          "text": [
            "(132, 65) (132,) (91, 65) (91,)\n"
          ]
        }
      ]
    },
    {
      "cell_type": "code",
      "metadata": {
        "id": "jTrK4smnm-3t"
      },
      "source": [
        "epochs = 50\n",
        "lr = 0.001"
      ],
      "execution_count": 5,
      "outputs": []
    },
    {
      "cell_type": "code",
      "metadata": {
        "id": "Kb0OUKDgm-3w"
      },
      "source": [
        "class assign_label(torch.utils.data.Dataset):\n",
        "    def __init__(self, x, y):\n",
        "        self.x = x\n",
        "        self.y = y\n",
        "    def __getitem__(self, i):\n",
        "        return (self.x[i], self.y[i])\n",
        "    def __len__(self):\n",
        "        return len(self.x)"
      ],
      "execution_count": 6,
      "outputs": []
    },
    {
      "cell_type": "code",
      "metadata": {
        "id": "dqBTPBbkm-3y"
      },
      "source": [
        "training = assign_label(torch.FloatTensor(train_data),\n",
        "                         torch.FloatTensor(train_labels))\n",
        "testing = assign_label(torch.FloatTensor(val_data), torch.FloatTensor(val_labels))"
      ],
      "execution_count": 7,
      "outputs": []
    },
    {
      "cell_type": "code",
      "metadata": {
        "id": "asEao4hnm-31"
      },
      "source": [
        "train_loader = torch.utils.data.DataLoader(dataset=training, batch_size = batch_size, shuffle=True)\n",
        "test_loader = torch.utils.data.DataLoader(dataset=testing, batch_size = batch_size, shuffle=False)"
      ],
      "execution_count": 8,
      "outputs": []
    },
    {
      "cell_type": "code",
      "metadata": {
        "id": "dlM0fAn6m-34"
      },
      "source": [
        "class Net(nn.Module):\n",
        "  def __init__(self, input_size, h_1, h_2, h_3, h_4, h_5, num_classes):\n",
        "    super(Net, self).__init__()\n",
        "\n",
        "    ##feedfoward layers:\n",
        "    self.ff1 = nn.Linear(input_size, h_1) #input\n",
        "\n",
        "    self.ff2 = nn.Linear(h_1, h_2) #hidden layers\n",
        "\n",
        "    # self.ff3 = nn.Linear(h_2, h_3)\n",
        "    \n",
        "    # self.ff4 = nn.Linear(h_3, h_4)\n",
        "    \n",
        "    # self.ff5 = nn.Linear(h_4, h_5)\n",
        "    \n",
        "    self.ff_out = nn.Linear(hidden_2, num_classes) #logit layer     \n",
        "\n",
        "    ##activations:\n",
        "    self.sigmoid = nn.Sigmoid()\n",
        "    self.relu = nn.ReLU()\n",
        "                \n",
        "  def forward(self, input_data):\n",
        "    #out = self.relu(self.ff1(input_data))\n",
        "    #out = self.relu(self.ff2(out))\n",
        "    out = self.sigmoid(self.ff1(input_data))\n",
        "    \n",
        "    out = self.sigmoid(self.ff2(out))\n",
        "    # out = self.sigmoid(self.ff3(out))\n",
        "    # out = self.sigmoid(self.ff4(out))\n",
        "    # out = self.sigmoid(self.ff5(out))\n",
        "    \n",
        "    out = self.ff_out(out)\n",
        "    return out #returns class probabilities for each set of data"
      ],
      "execution_count": 9,
      "outputs": []
    },
    {
      "cell_type": "code",
      "metadata": {
        "id": "yuwGh-mXm-36"
      },
      "source": [
        "net = Net(input_size=input_dim, h_1=hidden_1, h_2=hidden_2, h_3= hidden_3, h_4 = hidden_4, h_5 = hidden_5, num_classes=output_dim)\n",
        "if gpu_boole:\n",
        "    net.cuda()\n",
        "loss_metric = nn.BCEWithLogitsLoss()\n",
        "#optimizer = torch.optim.SGD(net.parameters(), lr = 0.001, momentum = 0.9, weight_decay = 0.001, dampening = 0.000002, nesterov = False)\n",
        "optimizer = torch.optim.Adam(net.parameters(), lr = lr)"
      ],
      "execution_count": 10,
      "outputs": []
    },
    {
      "cell_type": "code",
      "metadata": {
        "id": "ZbxV7Q_hm-39",
        "colab": {
          "base_uri": "https://localhost:8080/"
        },
        "outputId": "0d11d491-4bbb-4264-dc1a-37c4f192ae87"
      },
      "source": [
        "def weights_init(m):\n",
        "    if isinstance(m, nn.Conv2d) or isinstance(m, nn.Linear):\n",
        "        torch.nn.init.xavier_uniform(m.weight.data)\n",
        "torch.manual_seed(4)\n",
        "weights_init(net)\n",
        "net.train()\n",
        "\n",
        "loss_batch_store = []\n",
        "time_start = time.time()\n",
        "training_acc_store = []\n",
        "testing_acc_store = []\n",
        "testing_loss_store = []\n",
        "test_acc_max = 0.0\n",
        "count = 0\n",
        "ending_epoch = 0\n",
        "for epoch in range(epochs):\n",
        "    current_loss = 0\n",
        "    correct = 0\n",
        "    testing_acc = 0\n",
        "    testing_loss = 0\n",
        "    time1 = time.time()\n",
        "    for i, (x, y) in enumerate(train_loader):\n",
        "        \n",
        "        if gpu_boole:\n",
        "            x = x.cuda()\n",
        "            y = y.cuda()\n",
        "        optimizer.zero_grad()\n",
        "        \n",
        "        outputs = net.forward(x)\n",
        "        loss = loss_metric(outputs, y.unsqueeze(1))\n",
        "        loss.backward()\n",
        "        optimizer.step()\n",
        "        \n",
        "#         current_loss = loss.item()\n",
        "#         rounded = torch.round(torch.sigmoid(outputs))\n",
        "        \n",
        "#         correct = 100 * (((rounded == y.unsqueeze(1)).sum().float()) / y.size(0))\n",
        "            \n",
        "#         if i > 0 or epoch > 0:\n",
        "#             loss_batch_store.append(loss.cpu().data.numpy().item())\n",
        "#         if i > 0 or epoch > 0:\n",
        "#             training_acc_store.append(correct.cpu().data.numpy())\n",
        "        \n",
        "    for d, l in train_loader:\n",
        "\n",
        "        if gpu_boole:\n",
        "            d = d.cuda()\n",
        "            l = l.cuda()\n",
        "        outputs = net.forward(d)\n",
        "        loss = loss_metric(outputs, l.unsqueeze(1))\n",
        "\n",
        "        current_loss = loss.item()\n",
        "        # print(loss.grad)\n",
        "        rounded_train = torch.round(torch.sigmoid(outputs))\n",
        "        \n",
        "        correct = 100 * (((rounded_train == l.unsqueeze(1)).sum().float()) / l.size(0))\n",
        "        \n",
        "        \n",
        "            \n",
        "    for d, l in test_loader:\n",
        "\n",
        "        if gpu_boole:\n",
        "            d = d.cuda()\n",
        "            l = l.cuda()\n",
        "        outputs_test = net.forward(d)\n",
        "        loss_test = loss_metric(outputs_test, l.unsqueeze(1))\n",
        "\n",
        "        testing_loss = loss_test.item()\n",
        "        rounded_test = torch.round(torch.sigmoid(outputs_test))\n",
        "        \n",
        "        testing_acc = 100 * (((rounded_test == l.unsqueeze(1)).sum().float()) / l.size(0))\n",
        "        \n",
        "        \n",
        "    \n",
        "    time2 = time.time()\n",
        "    if i > 0 or epoch > 0:\n",
        "            training_acc_store.append(correct.cpu().data.numpy())\n",
        "    if i > 0 or epoch > 0:\n",
        "            loss_batch_store.append(current_loss) \n",
        "    if i > 0 or epoch > 0:\n",
        "            testing_acc_store.append(testing_acc.cpu().data.numpy())\n",
        "    if i > 0 or epoch > 0:\n",
        "            testing_loss_store.append(testing_loss)\n",
        "    # if testing_acc > test_acc_max:\n",
        "    #   test_acc_max = testing_acc\n",
        "    #   count = 0\n",
        "    # else:\n",
        "    #   count += 1\n",
        "    \n",
        "    print(\"Epoch\",epoch+1,':')\n",
        "    \n",
        "    print('Train accuracy: %f %%' % (correct))\n",
        "    print('Train loss: %f' % (current_loss / batch_size))\n",
        "    \n",
        "    print('Test accuracy: %f %%' % (testing_acc))\n",
        "    print('Test loss: %f' % (testing_loss / batch_size))\n",
        "    \n",
        "    print('Elapsed time for epoch:',time2 - time1,'s')\n",
        "    print('ETA of completion:',(time2 - time1)*(epochs - epoch - 1)/60,'minutes')\n",
        "    # if count >= 5:\n",
        "    #   print(\"Activating Early Stopping!\")\n",
        "    #   ending_epoch = epoch\n",
        "    #   break\n",
        "\n",
        "time_end = time.time()\n",
        "print ('Time elapsed:', (time_end - time_start) / 60, 'minutes')\n",
        "# print(\"Training completed after \" + str(ending_epoch) + \" epochs.\")    "
      ],
      "execution_count": 11,
      "outputs": [
        {
          "output_type": "stream",
          "name": "stdout",
          "text": [
            "Epoch 1 :\n",
            "Train accuracy: 0.000000 %\n",
            "Train loss: 0.027517\n",
            "Test accuracy: 3.703704 %\n",
            "Test loss: 0.027094\n",
            "Elapsed time for epoch: 0.28069376945495605 s\n",
            "ETA of completion: 0.22923324505488077 minutes\n",
            "Epoch 2 :\n",
            "Train accuracy: 0.000000 %\n",
            "Train loss: 0.027249\n",
            "Test accuracy: 3.703704 %\n",
            "Test loss: 0.026879\n",
            "Elapsed time for epoch: 0.02947998046875 s\n",
            "ETA of completion: 0.023583984375 minutes\n",
            "Epoch 3 :\n",
            "Train accuracy: 0.000000 %\n",
            "Train loss: 0.027001\n",
            "Test accuracy: 3.703704 %\n",
            "Test loss: 0.026662\n",
            "Elapsed time for epoch: 0.030442237854003906 s\n",
            "ETA of completion: 0.02384641965230306 minutes\n",
            "Epoch 4 :\n",
            "Train accuracy: 0.000000 %\n",
            "Train loss: 0.026781\n",
            "Test accuracy: 3.703704 %\n",
            "Test loss: 0.026443\n",
            "Elapsed time for epoch: 0.028979778289794922 s\n",
            "ETA of completion: 0.022217830022176106 minutes\n",
            "Epoch 5 :\n",
            "Train accuracy: 0.000000 %\n",
            "Train loss: 0.026567\n",
            "Test accuracy: 3.703704 %\n",
            "Test loss: 0.026226\n",
            "Elapsed time for epoch: 0.02475142478942871 s\n",
            "ETA of completion: 0.018563568592071533 minutes\n",
            "Epoch 6 :\n",
            "Train accuracy: 0.000000 %\n",
            "Train loss: 0.026295\n",
            "Test accuracy: 3.703704 %\n",
            "Test loss: 0.026011\n",
            "Elapsed time for epoch: 0.026953458786010742 s\n",
            "ETA of completion: 0.019765869776407877 minutes\n",
            "Epoch 7 :\n",
            "Train accuracy: 25.000000 %\n",
            "Train loss: 0.024109\n",
            "Test accuracy: 3.703704 %\n",
            "Test loss: 0.025793\n",
            "Elapsed time for epoch: 0.029548168182373047 s\n",
            "ETA of completion: 0.02117618719736735 minutes\n",
            "Epoch 8 :\n",
            "Train accuracy: 0.000000 %\n",
            "Train loss: 0.025813\n",
            "Test accuracy: 3.703704 %\n",
            "Test loss: 0.025572\n",
            "Elapsed time for epoch: 0.03891944885253906 s\n",
            "ETA of completion: 0.027243614196777344 minutes\n",
            "Epoch 9 :\n",
            "Train accuracy: 0.000000 %\n",
            "Train loss: 0.025636\n",
            "Test accuracy: 3.703704 %\n",
            "Test loss: 0.025346\n",
            "Elapsed time for epoch: 0.030120372772216797 s\n",
            "ETA of completion: 0.02058225472768148 minutes\n",
            "Epoch 10 :\n",
            "Train accuracy: 0.000000 %\n",
            "Train loss: 0.025299\n",
            "Test accuracy: 3.703704 %\n",
            "Test loss: 0.025125\n",
            "Elapsed time for epoch: 0.02662348747253418 s\n",
            "ETA of completion: 0.01774899164835612 minutes\n",
            "Epoch 11 :\n",
            "Train accuracy: 25.000000 %\n",
            "Train loss: 0.023464\n",
            "Test accuracy: 3.703704 %\n",
            "Test loss: 0.024906\n",
            "Elapsed time for epoch: 0.030444622039794922 s\n",
            "ETA of completion: 0.0197890043258667 minutes\n",
            "Epoch 12 :\n",
            "Train accuracy: 0.000000 %\n",
            "Train loss: 0.024982\n",
            "Test accuracy: 3.703704 %\n",
            "Test loss: 0.024680\n",
            "Elapsed time for epoch: 0.030954837799072266 s\n",
            "ETA of completion: 0.0196047306060791 minutes\n",
            "Epoch 13 :\n",
            "Train accuracy: 25.000000 %\n",
            "Train loss: 0.023193\n",
            "Test accuracy: 3.703704 %\n",
            "Test loss: 0.024455\n",
            "Elapsed time for epoch: 0.02732086181640625 s\n",
            "ETA of completion: 0.016847864786783854 minutes\n",
            "Epoch 14 :\n",
            "Train accuracy: 0.000000 %\n",
            "Train loss: 0.024375\n",
            "Test accuracy: 3.703704 %\n",
            "Test loss: 0.024231\n",
            "Elapsed time for epoch: 0.026682376861572266 s\n",
            "ETA of completion: 0.016009426116943358 minutes\n",
            "Epoch 15 :\n",
            "Train accuracy: 0.000000 %\n",
            "Train loss: 0.024043\n",
            "Test accuracy: 3.703704 %\n",
            "Test loss: 0.024005\n",
            "Elapsed time for epoch: 0.03248333930969238 s\n",
            "ETA of completion: 0.018948614597320557 minutes\n",
            "Epoch 16 :\n",
            "Train accuracy: 50.000000 %\n",
            "Train loss: 0.021644\n",
            "Test accuracy: 3.703704 %\n",
            "Test loss: 0.023781\n",
            "Elapsed time for epoch: 0.027945756912231445 s\n",
            "ETA of completion: 0.01583592891693115 minutes\n",
            "Epoch 17 :\n",
            "Train accuracy: 25.000000 %\n",
            "Train loss: 0.022888\n",
            "Test accuracy: 3.703704 %\n",
            "Test loss: 0.023557\n",
            "Elapsed time for epoch: 0.026621580123901367 s\n",
            "ETA of completion: 0.014641869068145751 minutes\n",
            "Epoch 18 :\n",
            "Train accuracy: 0.000000 %\n",
            "Train loss: 0.023447\n",
            "Test accuracy: 3.703704 %\n",
            "Test loss: 0.023329\n",
            "Elapsed time for epoch: 0.02483510971069336 s\n",
            "ETA of completion: 0.013245391845703124 minutes\n",
            "Epoch 19 :\n",
            "Train accuracy: 0.000000 %\n",
            "Train loss: 0.023133\n",
            "Test accuracy: 3.703704 %\n",
            "Test loss: 0.023102\n",
            "Elapsed time for epoch: 0.027756690979003906 s\n",
            "ETA of completion: 0.014340957005818685 minutes\n",
            "Epoch 20 :\n",
            "Train accuracy: 0.000000 %\n",
            "Train loss: 0.023121\n",
            "Test accuracy: 3.703704 %\n",
            "Test loss: 0.022869\n",
            "Elapsed time for epoch: 0.026075363159179688 s\n",
            "ETA of completion: 0.013037681579589844 minutes\n",
            "Epoch 21 :\n",
            "Train accuracy: 25.000000 %\n",
            "Train loss: 0.022027\n",
            "Test accuracy: 3.703704 %\n",
            "Test loss: 0.022638\n",
            "Elapsed time for epoch: 0.028226852416992188 s\n",
            "ETA of completion: 0.013642978668212891 minutes\n",
            "Epoch 22 :\n",
            "Train accuracy: 0.000000 %\n",
            "Train loss: 0.022554\n",
            "Test accuracy: 3.703704 %\n",
            "Test loss: 0.022405\n",
            "Elapsed time for epoch: 0.03815650939941406 s\n",
            "ETA of completion: 0.017806371053059895 minutes\n",
            "Epoch 23 :\n",
            "Train accuracy: 0.000000 %\n",
            "Train loss: 0.022293\n",
            "Test accuracy: 3.703704 %\n",
            "Test loss: 0.022174\n",
            "Elapsed time for epoch: 0.02726602554321289 s\n",
            "ETA of completion: 0.012269711494445801 minutes\n",
            "Epoch 24 :\n",
            "Train accuracy: 0.000000 %\n",
            "Train loss: 0.021879\n",
            "Test accuracy: 3.703704 %\n",
            "Test loss: 0.021942\n",
            "Elapsed time for epoch: 0.02641749382019043 s\n",
            "ETA of completion: 0.011447580655415852 minutes\n",
            "Epoch 25 :\n",
            "Train accuracy: 50.000000 %\n",
            "Train loss: 0.021654\n",
            "Test accuracy: 59.259258 %\n",
            "Test loss: 0.021712\n",
            "Elapsed time for epoch: 0.03138279914855957 s\n",
            "ETA of completion: 0.01307616631189982 minutes\n",
            "Epoch 26 :\n",
            "Train accuracy: 100.000000 %\n",
            "Train loss: 0.021362\n",
            "Test accuracy: 70.370369 %\n",
            "Test loss: 0.021486\n",
            "Elapsed time for epoch: 0.026539087295532227 s\n",
            "ETA of completion: 0.01061563491821289 minutes\n",
            "Epoch 27 :\n",
            "Train accuracy: 100.000000 %\n",
            "Train loss: 0.021213\n",
            "Test accuracy: 88.888893 %\n",
            "Test loss: 0.021260\n",
            "Elapsed time for epoch: 0.025168895721435547 s\n",
            "ETA of completion: 0.00964807669321696 minutes\n",
            "Epoch 28 :\n",
            "Train accuracy: 75.000000 %\n",
            "Train loss: 0.021316\n",
            "Test accuracy: 96.296295 %\n",
            "Test loss: 0.021041\n",
            "Elapsed time for epoch: 0.02723217010498047 s\n",
            "ETA of completion: 0.009985129038492838 minutes\n",
            "Epoch 29 :\n",
            "Train accuracy: 75.000000 %\n",
            "Train loss: 0.020937\n",
            "Test accuracy: 96.296295 %\n",
            "Test loss: 0.020824\n",
            "Elapsed time for epoch: 0.03195381164550781 s\n",
            "ETA of completion: 0.011183834075927735 minutes\n",
            "Epoch 30 :\n",
            "Train accuracy: 100.000000 %\n",
            "Train loss: 0.020601\n",
            "Test accuracy: 96.296295 %\n",
            "Test loss: 0.020610\n",
            "Elapsed time for epoch: 0.028902530670166016 s\n",
            "ETA of completion: 0.009634176890055338 minutes\n",
            "Epoch 31 :\n",
            "Train accuracy: 75.000000 %\n",
            "Train loss: 0.020959\n",
            "Test accuracy: 96.296295 %\n",
            "Test loss: 0.020397\n",
            "Elapsed time for epoch: 0.02786874771118164 s\n",
            "ETA of completion: 0.008825103441874186 minutes\n",
            "Epoch 32 :\n",
            "Train accuracy: 75.000000 %\n",
            "Train loss: 0.020574\n",
            "Test accuracy: 96.296295 %\n",
            "Test loss: 0.020188\n",
            "Elapsed time for epoch: 0.0245664119720459 s\n",
            "ETA of completion: 0.00736992359161377 minutes\n",
            "Epoch 33 :\n",
            "Train accuracy: 100.000000 %\n",
            "Train loss: 0.019698\n",
            "Test accuracy: 96.296295 %\n",
            "Test loss: 0.019978\n",
            "Elapsed time for epoch: 0.02671194076538086 s\n",
            "ETA of completion: 0.00756838321685791 minutes\n",
            "Epoch 34 :\n",
            "Train accuracy: 50.000000 %\n",
            "Train loss: 0.021618\n",
            "Test accuracy: 96.296295 %\n",
            "Test loss: 0.019770\n",
            "Elapsed time for epoch: 0.028455734252929688 s\n",
            "ETA of completion: 0.00758819580078125 minutes\n",
            "Epoch 35 :\n",
            "Train accuracy: 100.000000 %\n",
            "Train loss: 0.019187\n",
            "Test accuracy: 96.296295 %\n",
            "Test loss: 0.019564\n",
            "Elapsed time for epoch: 0.028803586959838867 s\n",
            "ETA of completion: 0.007200896739959717 minutes\n",
            "Epoch 36 :\n",
            "Train accuracy: 75.000000 %\n",
            "Train loss: 0.020345\n",
            "Test accuracy: 96.296295 %\n",
            "Test loss: 0.019362\n",
            "Elapsed time for epoch: 0.033812522888183594 s\n",
            "ETA of completion: 0.007889588673909506 minutes\n",
            "Epoch 37 :\n",
            "Train accuracy: 100.000000 %\n",
            "Train loss: 0.018817\n",
            "Test accuracy: 96.296295 %\n",
            "Test loss: 0.019166\n",
            "Elapsed time for epoch: 0.02718520164489746 s\n",
            "ETA of completion: 0.005890127023061117 minutes\n",
            "Epoch 38 :\n",
            "Train accuracy: 100.000000 %\n",
            "Train loss: 0.018675\n",
            "Test accuracy: 96.296295 %\n",
            "Test loss: 0.018978\n",
            "Elapsed time for epoch: 0.027998924255371094 s\n",
            "ETA of completion: 0.005599784851074219 minutes\n",
            "Epoch 39 :\n",
            "Train accuracy: 100.000000 %\n",
            "Train loss: 0.018380\n",
            "Test accuracy: 96.296295 %\n",
            "Test loss: 0.018786\n",
            "Elapsed time for epoch: 0.03049612045288086 s\n",
            "ETA of completion: 0.005590955416361491 minutes\n",
            "Epoch 40 :\n",
            "Train accuracy: 75.000000 %\n",
            "Train loss: 0.019839\n",
            "Test accuracy: 96.296295 %\n",
            "Test loss: 0.018596\n",
            "Elapsed time for epoch: 0.02708601951599121 s\n",
            "ETA of completion: 0.004514336585998535 minutes\n",
            "Epoch 41 :\n",
            "Train accuracy: 100.000000 %\n",
            "Train loss: 0.018157\n",
            "Test accuracy: 96.296295 %\n",
            "Test loss: 0.018417\n",
            "Elapsed time for epoch: 0.031085968017578125 s\n",
            "ETA of completion: 0.004662895202636718 minutes\n",
            "Epoch 42 :\n",
            "Train accuracy: 100.000000 %\n",
            "Train loss: 0.018003\n",
            "Test accuracy: 96.296295 %\n",
            "Test loss: 0.018237\n",
            "Elapsed time for epoch: 0.029260873794555664 s\n",
            "ETA of completion: 0.0039014498392740886 minutes\n",
            "Epoch 43 :\n",
            "Train accuracy: 100.000000 %\n",
            "Train loss: 0.017686\n",
            "Test accuracy: 96.296295 %\n",
            "Test loss: 0.018059\n",
            "Elapsed time for epoch: 0.0343928337097168 s\n",
            "ETA of completion: 0.004012497266133627 minutes\n",
            "Epoch 44 :\n",
            "Train accuracy: 75.000000 %\n",
            "Train loss: 0.019718\n",
            "Test accuracy: 96.296295 %\n",
            "Test loss: 0.017895\n",
            "Elapsed time for epoch: 0.027875185012817383 s\n",
            "ETA of completion: 0.0027875185012817385 minutes\n",
            "Epoch 45 :\n",
            "Train accuracy: 75.000000 %\n",
            "Train loss: 0.019553\n",
            "Test accuracy: 96.296295 %\n",
            "Test loss: 0.017725\n",
            "Elapsed time for epoch: 0.025846004486083984 s\n",
            "ETA of completion: 0.0021538337071736655 minutes\n",
            "Epoch 46 :\n",
            "Train accuracy: 100.000000 %\n",
            "Train loss: 0.017029\n",
            "Test accuracy: 96.296295 %\n",
            "Test loss: 0.017550\n",
            "Elapsed time for epoch: 0.03088092803955078 s\n",
            "ETA of completion: 0.002058728535970052 minutes\n",
            "Epoch 47 :\n",
            "Train accuracy: 75.000000 %\n",
            "Train loss: 0.019608\n",
            "Test accuracy: 96.296295 %\n",
            "Test loss: 0.017378\n",
            "Elapsed time for epoch: 0.02724170684814453 s\n",
            "ETA of completion: 0.0013620853424072266 minutes\n",
            "Epoch 48 :\n",
            "Train accuracy: 100.000000 %\n",
            "Train loss: 0.016671\n",
            "Test accuracy: 96.296295 %\n",
            "Test loss: 0.017213\n",
            "Elapsed time for epoch: 0.03523111343383789 s\n",
            "ETA of completion: 0.0011743704477945964 minutes\n",
            "Epoch 49 :\n",
            "Train accuracy: 100.000000 %\n",
            "Train loss: 0.016457\n",
            "Test accuracy: 96.296295 %\n",
            "Test loss: 0.017050\n",
            "Elapsed time for epoch: 0.0265352725982666 s\n",
            "ETA of completion: 0.00044225454330444337 minutes\n",
            "Epoch 50 :\n",
            "Train accuracy: 75.000000 %\n",
            "Train loss: 0.019302\n",
            "Test accuracy: 96.296295 %\n",
            "Test loss: 0.016892\n",
            "Elapsed time for epoch: 0.03131699562072754 s\n",
            "ETA of completion: 0.0 minutes\n",
            "Time elapsed: 0.03102840979894002 minutes\n"
          ]
        }
      ]
    },
    {
      "cell_type": "code",
      "metadata": {
        "id": "sJeiQi_Fm-3_",
        "colab": {
          "base_uri": "https://localhost:8080/"
        },
        "outputId": "f3a99df3-1199-4a53-f70e-6bf98d57003c"
      },
      "source": [
        "net.eval()\n",
        "\n",
        "x = torch.FloatTensor(val_data)      \n",
        "y = torch.FloatTensor(val_labels)\n",
        "\n",
        "if gpu_boole:\n",
        "    x = x.cuda()\n",
        "    y = y.cuda()\n",
        "outputs = net.forward(x)\n",
        "loss = loss_metric(outputs, y.unsqueeze(1))\n",
        "\n",
        "current_loss = loss.item()\n",
        "rounded = torch.round(torch.sigmoid(outputs))\n",
        "        \n",
        "correct = 100 * (((rounded == y.unsqueeze(1)).sum().float()) / y.size(0))\n",
        "\n",
        "print('Test accuracy: %f %%' % (correct))\n",
        "print('Test loss: %f' % (current_loss / batch_size))"
      ],
      "execution_count": 12,
      "outputs": [
        {
          "output_type": "stream",
          "name": "stdout",
          "text": [
            "Test accuracy: 96.703300 %\n",
            "Test loss: 0.016767\n"
          ]
        }
      ]
    },
    {
      "cell_type": "code",
      "metadata": {
        "id": "HQ-Verp_m-4C",
        "colab": {
          "base_uri": "https://localhost:8080/",
          "height": 279
        },
        "outputId": "c0f8e59e-580f-46c9-8760-dbcc6d4d87a8"
      },
      "source": [
        "plt.plot(loss_batch_store, '-o', label = 'train_loss', color = 'blue')\n",
        "plt.xlabel('Epoch Number')\n",
        "plt.ylabel('Training Loss for seed 4')\n",
        "plt.legend()\n",
        "plt.show()"
      ],
      "execution_count": 13,
      "outputs": [
        {
          "output_type": "display_data",
          "data": {
            "image/png": "[encoded data removed]",
            "text/plain": [
              "<Figure size 432x288 with 1 Axes>"
            ]
          },
          "metadata": {
            "needs_background": "light"
          }
        }
      ]
    },
    {
      "cell_type": "code",
      "metadata": {
        "id": "GQ3qbKB0m-4E",
        "colab": {
          "base_uri": "https://localhost:8080/",
          "height": 279
        },
        "outputId": "a1b652ef-8fb3-48fc-b9db-c336151554f4"
      },
      "source": [
        "plt.plot(training_acc_store, '-o', label = 'train_accuracy', color = 'blue')\n",
        "plt.xlabel('Epoch Number')\n",
        "plt.ylabel('Training Accuracy for seed 4')\n",
        "plt.legend()\n",
        "plt.show()"
      ],
      "execution_count": 14,
      "outputs": [
        {
          "output_type": "display_data",
          "data": {
            "image/png": "[encoded data removed]",
            "text/plain": [
              "<Figure size 432x288 with 1 Axes>"
            ]
          },
          "metadata": {
            "needs_background": "light"
          }
        }
      ]
    },
    {
      "cell_type": "code",
      "metadata": {
        "id": "N1yJ1XNEm-4K",
        "colab": {
          "base_uri": "https://localhost:8080/",
          "height": 279
        },
        "outputId": "7dab04be-8bf6-43a6-80c6-629400b65496"
      },
      "source": [
        "plt.plot(testing_loss_store, '-o', label = 'test_loss', color = 'blue')\n",
        "plt.xlabel('Epoch Number')\n",
        "plt.ylabel('Testing Loss for seed 4')\n",
        "plt.legend()\n",
        "plt.show()"
      ],
      "execution_count": 15,
      "outputs": [
        {
          "output_type": "display_data",
          "data": {
            "image/png": "[encoded data removed]",
            "text/plain": [
              "<Figure size 432x288 with 1 Axes>"
            ]
          },
          "metadata": {
            "needs_background": "light"
          }
        }
      ]
    },
    {
      "cell_type": "code",
      "metadata": {
        "id": "AC5SiKnCm-4N",
        "colab": {
          "base_uri": "https://localhost:8080/",
          "height": 281
        },
        "outputId": "68010ba6-767e-4b37-b702-6ed58854e770"
      },
      "source": [
        "plt.plot(testing_acc_store, '-o', label = 'test_accuracy', color = 'blue')\n",
        "plt.xlabel('Epoch Number')\n",
        "plt.ylabel('Testing Accuracy for seed 4')\n",
        "plt.legend()\n",
        "plt.show()"
      ],
      "execution_count": 16,
      "outputs": [
        {
          "output_type": "display_data",
          "data": {
            "image/png": "[encoded data removed]",
            "text/plain": [
              "<Figure size 432x288 with 1 Axes>"
            ]
          },
          "metadata": {
            "needs_background": "light"
          }
        }
      ]
    },
    {
      "cell_type": "code",
      "metadata": {
        "id": "pZNsx0wqpwVn",
        "colab": {
          "base_uri": "https://localhost:8080/"
        },
        "outputId": "9548c96a-31ba-4407-9ed2-77490a6b986f"
      },
      "source": [
        "print ('The mean for Train Accuracy: %f' % (np.mean(np.array(training_acc_store))))\n",
        "print ('The mean for Train Loss: %f' % (np.mean(np.array(loss_batch_store))))\n",
        "print ('The mean for Test Accuracy: %f' % (np.mean(np.array(testing_acc_store))))\n",
        "print ('The mean for Test Loss: %f' % (np.mean(np.array(testing_loss_store))))"
      ],
      "execution_count": 17,
      "outputs": [
        {
          "output_type": "stream",
          "name": "stdout",
          "text": [
            "The mean for Train Accuracy: 48.500000\n",
            "The mean for Train Loss: 0.699308\n",
            "The mean for Test Accuracy: 50.444447\n",
            "The mean for Test Loss: 0.695910\n"
          ]
        }
      ]
    },
    {
      "cell_type": "code",
      "metadata": {
        "id": "WEow7B0npxJc",
        "colab": {
          "base_uri": "https://localhost:8080/"
        },
        "outputId": "4d1bb4a3-b91e-488e-f17c-8ee3c88135ee"
      },
      "source": [
        "print ('The standard deviation for Train Accuracy: %f' % (np.std(np.array(training_acc_store))))\n",
        "print ('The standard deviation for Train Loss: %f' % (np.mean(np.std(loss_batch_store))))\n",
        "print ('The standard deviation for Test Accuracy: %f' % (np.std(np.array(testing_acc_store))))\n",
        "print ('The standard deviation for Test Loss: %f' % (np.std(np.array(testing_loss_store))))"
      ],
      "execution_count": 18,
      "outputs": [
        {
          "output_type": "stream",
          "name": "stdout",
          "text": [
            "The standard deviation for Train Accuracy: 42.252220\n",
            "The standard deviation for Train Loss: 0.094457\n",
            "The standard deviation for Test Accuracy: 45.330006\n",
            "The standard deviation for Test Loss: 0.098633\n"
          ]
        }
      ]
    },
    {
      "cell_type": "code",
      "metadata": {
        "id": "eiBYcUoJDp4H",
        "colab": {
          "base_uri": "https://localhost:8080/"
        },
        "outputId": "45849054-b2fe-449e-f18d-b0e0b49f69ca"
      },
      "source": [
        "torch.save(net.state_dict(), \"linear_model\")\n",
        "print(np.where(val_labels==0))\n",
        "pred = rounded.detach().cpu().numpy()[:, 0]\n",
        "print(np.where(pred==0))"
      ],
      "execution_count": 22,
      "outputs": [
        {
          "output_type": "stream",
          "name": "stdout",
          "text": [
            "(array([14, 61, 67]),)\n",
            "(array([], dtype=int64),)\n"
          ]
        }
      ]
    },
    {
      "cell_type": "code",
      "metadata": {
        "colab": {
          "base_uri": "https://localhost:8080/"
        },
        "id": "XugaEdD7INQ3",
        "outputId": "e4f8d746-2148-4835-94c7-44c408618e86"
      },
      "source": [
        "false_percentage = len(np.where(Y == 0)[0]) / len(Y) * 100\n",
        "print(\"The percentage of false in the dataset is \" + str(false_percentage))"
      ],
      "execution_count": 20,
      "outputs": [
        {
          "output_type": "stream",
          "name": "stdout",
          "text": [
            "The percentage of false in the dataset is 5.381165919282512\n"
          ]
        }
      ]
    }
  ]
}