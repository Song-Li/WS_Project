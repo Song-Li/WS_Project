{
 "cells": [
  {
   "cell_type": "code",
   "execution_count": 1,
   "metadata": {},
   "outputs": [],
   "source": [
    "from data_processing import *\n",
    "import numpy"
   ]
  },
  {
   "cell_type": "code",
   "execution_count": 2,
   "metadata": {},
   "outputs": [
    {
     "name": "stdout",
     "output_type": "stream",
     "text": [
      "(152, 65) (152,)\n"
     ]
    }
   ],
   "source": [
    "X, Y = read_data(\"training_data.log\", \"training_labels.log\")\n",
    "print(X.shape, Y.shape)"
   ]
  },
  {
   "cell_type": "code",
   "execution_count": 3,
   "metadata": {},
   "outputs": [
    {
     "name": "stdout",
     "output_type": "stream",
     "text": [
      "(223, 65) (223,)\n"
     ]
    }
   ],
   "source": [
    "X, Y = read_input(\"aidata.log\")\n",
    "print(X.shape, Y.shape)"
   ]
  },
  {
   "cell_type": "code",
   "execution_count": 4,
   "metadata": {},
   "outputs": [
    {
     "name": "stdout",
     "output_type": "stream",
     "text": [
      "(172, 65) (172,) (51, 65) (51,)\n"
     ]
    }
   ],
   "source": [
    "X_train, Y_train, X_test, Y_test = random_split(X, Y, 0.7)\n",
    "print(X_train.shape, Y_train.shape, X_test.shape, Y_test.shape)"
   ]
  }
 ],
 "metadata": {
  "interpreter": {
   "hash": "c55d4ef2546f99c75f6b0fa133aee980ab12bf1e9af68892b241bff2de4fd593"
  },
  "kernelspec": {
   "display_name": "Python 3.8.5 64-bit ('pytorch-gpu': conda)",
   "language": "python",
   "name": "python3"
  },
  "language_info": {
   "codemirror_mode": {
    "name": "ipython",
    "version": 3
   },
   "file_extension": ".py",
   "mimetype": "text/x-python",
   "name": "python",
   "nbconvert_exporter": "python",
   "pygments_lexer": "ipython3",
   "version": "3.8.5"
  },
  "orig_nbformat": 4
 },
 "nbformat": 4,
 "nbformat_minor": 2
}
