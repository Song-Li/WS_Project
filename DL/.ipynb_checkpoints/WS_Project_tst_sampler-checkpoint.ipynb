{
  "nbformat": 4,
  "nbformat_minor": 0,
  "metadata": {
    "kernelspec": {
      "display_name": "Python 3",
      "language": "python",
      "name": "python3"
    },
    "language_info": {
      "codemirror_mode": {
        "name": "ipython",
        "version": 3
      },
      "file_extension": ".py",
      "mimetype": "text/x-python",
      "name": "python",
      "nbconvert_exporter": "python",
      "pygments_lexer": "ipython3",
      "version": "3.7.5"
    },
    "colab": {
      "name": "WS_Project.ipynb",
      "provenance": [],
      "collapsed_sections": []
    },
    "accelerator": "GPU"
  },
  "cells": [
    {
      "cell_type": "code",
      "metadata": {
        "colab": {
          "base_uri": "https://localhost:8080/"
        },
        "id": "HXjt6EoulHGj",
        "outputId": "962c9d0c-a4d3-4a62-9af9-d73c155ba5e6"
      },
      "source": [
        "pip install https://github.com/ufoym/imbalanced-dataset-sampler/archive/master.zip\n"
      ],
      "execution_count": 1,
      "outputs": [
        {
          "output_type": "stream",
          "name": "stdout",
          "text": [
            "Collecting https://github.com/ufoym/imbalanced-dataset-sampler/archive/master.zip\n",
            "  Using cached https://github.com/ufoym/imbalanced-dataset-sampler/archive/master.zip\n",
            "Requirement already satisfied: torch>=1.3 in /usr/local/lib/python3.7/dist-packages (from torchsampler==0.1.1) (1.10.0+cu111)\n",
            "Requirement already satisfied: torchvision>=0.5 in /usr/local/lib/python3.7/dist-packages (from torchsampler==0.1.1) (0.11.1+cu111)\n",
            "Requirement already satisfied: pandas in /usr/local/lib/python3.7/dist-packages (from torchsampler==0.1.1) (1.1.5)\n",
            "Requirement already satisfied: typing-extensions in /usr/local/lib/python3.7/dist-packages (from torch>=1.3->torchsampler==0.1.1) (3.10.0.2)\n",
            "Requirement already satisfied: pillow!=8.3.0,>=5.3.0 in /usr/local/lib/python3.7/dist-packages (from torchvision>=0.5->torchsampler==0.1.1) (7.1.2)\n",
            "Requirement already satisfied: numpy in /usr/local/lib/python3.7/dist-packages (from torchvision>=0.5->torchsampler==0.1.1) (1.19.5)\n",
            "Requirement already satisfied: pytz>=2017.2 in /usr/local/lib/python3.7/dist-packages (from pandas->torchsampler==0.1.1) (2018.9)\n",
            "Requirement already satisfied: python-dateutil>=2.7.3 in /usr/local/lib/python3.7/dist-packages (from pandas->torchsampler==0.1.1) (2.8.2)\n",
            "Requirement already satisfied: six>=1.5 in /usr/local/lib/python3.7/dist-packages (from python-dateutil>=2.7.3->pandas->torchsampler==0.1.1) (1.15.0)\n"
          ]
        }
      ]
    },
    {
      "cell_type": "code",
      "metadata": {
        "id": "yB8Orgnnm-3k"
      },
      "source": [
        "import numpy as np\n",
        "import torch\n",
        "import torch.nn as nn\n",
        "import torchvision\n",
        "import torchvision.datasets as dataset\n",
        "import torchvision.transforms as transforms\n",
        "import random\n",
        "\n",
        "import matplotlib.pyplot as plt\n",
        "import time\n",
        "%matplotlib inline\n",
        "\n",
        "import matplotlib.pyplot as plt\n",
        "import matplotlib\n",
        "from matplotlib.patches import Polygon\n",
        "from matplotlib.collections import PatchCollection\n",
        "\n",
        "from torch.autograd import Variable\n",
        "import torch.nn.functional as F\n",
        "\n",
        "from sklearn.preprocessing import StandardScaler\n",
        "# from pytorch_lightning.callbacks.early_stopping import EarlyStopping\n",
        "from torchsampler import ImbalancedDatasetSampler\n",
        "\n"
      ],
      "execution_count": 2,
      "outputs": []
    },
    {
      "cell_type": "code",
      "metadata": {
        "id": "0C0y-bV74ZNw"
      },
      "source": [
        "file_name = \"aidata.log\"\n",
        "X = []\n",
        "Y = []\n",
        "with open( file_name , \"r\") as file:\n",
        "  for line in file:\n",
        "    line = line.replace(\"[\", \"\")\n",
        "    line = line.replace(\"]\", \",\")\n",
        "    line = line.replace(\"True\", \"1\")\n",
        "    line = line.replace(\"False\", \"0\")\n",
        "    lst = line.split(\",\")\n",
        "    X.append(lst[:-1])\n",
        "    Y.append(lst[-1].strip())\n",
        "    # print(lst[-1])\n",
        "X = np.array(X).astype(int)\n",
        "Y = np.array(Y).astype(int)\n",
        "\n",
        "split_ratio = 0.8\n",
        "split_tr = int(np.ceil(len(X) * split_ratio))\n",
        "split_t = len(X) - split_tr\n",
        "train_data = []\n",
        "val_data = []\n",
        "train_labels = []\n",
        "val_labels = []\n",
        "\n",
        "for i in range(len(Y)):\n",
        "  choice = random.random()\n",
        "  if choice >= 0.6:\n",
        "    val_data.append(X[i])\n",
        "    val_labels.append(Y[i])\n",
        "  else:\n",
        "    train_data.append(X[i])\n",
        "    train_labels.append(Y[i])\n",
        "\n",
        "train_data = np.array(train_data)\n",
        "val_data = np.array(val_data)\n",
        "train_labels = np.array(train_labels)\n",
        "val_labels = np.array(val_labels)\n",
        "  "
      ],
      "execution_count": 3,
      "outputs": []
    },
    {
      "cell_type": "code",
      "metadata": {
        "id": "SsP4_Wyz4Xtt"
      },
      "source": [
        "gpu_boole = torch.cuda.is_available()\n",
        "batch_size, input_dim, hidden_1, hidden_2, hidden_3, hidden_4, hidden_5, output_dim = 32, len(X[0]), 10, 2, 100, 150, 60, 1\n",
        "\n",
        "# np.random.rand(100)"
      ],
      "execution_count": 4,
      "outputs": []
    },
    {
      "cell_type": "code",
      "metadata": {
        "id": "kGq0q4btm-3q",
        "colab": {
          "base_uri": "https://localhost:8080/"
        },
        "outputId": "cc3feecf-f814-4fa3-8537-90e6dac361bf"
      },
      "source": [
        "# train_data, val_data = np.split(X, [split_tr])\n",
        "# train_labels, val_labels = np.split(Y, [split_tr])\n",
        "\n",
        "scaler = StandardScaler()\n",
        "train_data = scaler.fit_transform(train_data)\n",
        "val_data = scaler.fit_transform(val_data)\n",
        "print(train_data.shape, train_labels.shape, val_data.shape, val_labels.shape)"
      ],
      "execution_count": 5,
      "outputs": [
        {
          "output_type": "stream",
          "name": "stdout",
          "text": [
            "(131, 65) (131,) (92, 65) (92,)\n"
          ]
        }
      ]
    },
    {
      "cell_type": "code",
      "metadata": {
        "id": "jTrK4smnm-3t"
      },
      "source": [
        "epochs = 25\n",
        "lr = 0.001"
      ],
      "execution_count": 6,
      "outputs": []
    },
    {
      "cell_type": "code",
      "metadata": {
        "id": "Kb0OUKDgm-3w"
      },
      "source": [
        "class assign_label(torch.utils.data.Dataset):\n",
        "    def __init__(self, x, y):\n",
        "        self.x = x\n",
        "        self.y = y\n",
        "    def __getitem__(self, i):\n",
        "        return (self.x[i], self.y[i])\n",
        "    def __len__(self):\n",
        "        return len(self.x)\n",
        "    def get_labels(self):\n",
        "        return self.y"
      ],
      "execution_count": 7,
      "outputs": []
    },
    {
      "cell_type": "code",
      "metadata": {
        "id": "dqBTPBbkm-3y"
      },
      "source": [
        "training = assign_label(torch.FloatTensor(train_data),\n",
        "                         torch.FloatTensor(train_labels))\n",
        "testing = assign_label(torch.FloatTensor(val_data), torch.FloatTensor(val_labels))"
      ],
      "execution_count": 8,
      "outputs": []
    },
    {
      "cell_type": "code",
      "metadata": {
        "id": "asEao4hnm-31"
      },
      "source": [
        "train_loader = torch.utils.data.DataLoader(dataset=training, sampler=ImbalancedDatasetSampler(training), batch_size = batch_size, shuffle=False)\n",
        "test_loader = torch.utils.data.DataLoader(dataset=testing, batch_size = batch_size, shuffle=False)"
      ],
      "execution_count": 9,
      "outputs": []
    },
    {
      "cell_type": "code",
      "metadata": {
        "id": "dlM0fAn6m-34"
      },
      "source": [
        "class Net(nn.Module):\n",
        "  def __init__(self, input_size, h_1, h_2, h_3, h_4, h_5, num_classes):\n",
        "    super(Net, self).__init__()\n",
        "\n",
        "    ##feedfoward layers:\n",
        "    self.ff1 = nn.Linear(input_size, h_1) #input\n",
        "\n",
        "    self.ff2 = nn.Linear(h_1, h_2) #hidden layers\n",
        "\n",
        "    # self.ff3 = nn.Linear(h_2, h_3)\n",
        "    \n",
        "    # self.ff4 = nn.Linear(h_3, h_4)\n",
        "    \n",
        "    # self.ff5 = nn.Linear(h_4, h_5)\n",
        "    \n",
        "    self.ff_out = nn.Linear(hidden_2, num_classes) #logit layer     \n",
        "\n",
        "    ##activations:\n",
        "    self.sigmoid = nn.Sigmoid()\n",
        "    self.relu = nn.ReLU()\n",
        "                \n",
        "  def forward(self, input_data):\n",
        "    #out = self.relu(self.ff1(input_data))\n",
        "    #out = self.relu(self.ff2(out))\n",
        "    out = self.sigmoid(self.ff1(input_data))\n",
        "    \n",
        "    out = self.sigmoid(self.ff2(out))\n",
        "    # out = self.sigmoid(self.ff3(out))\n",
        "    # out = self.sigmoid(self.ff4(out))\n",
        "    # out = self.sigmoid(self.ff5(out))\n",
        "    \n",
        "    out = self.ff_out(out)\n",
        "    return out #returns class probabilities for each set of data"
      ],
      "execution_count": 10,
      "outputs": []
    },
    {
      "cell_type": "code",
      "metadata": {
        "id": "yuwGh-mXm-36"
      },
      "source": [
        "net = Net(input_size=input_dim, h_1=hidden_1, h_2=hidden_2, h_3= hidden_3, h_4 = hidden_4, h_5 = hidden_5, num_classes=output_dim)\n",
        "if gpu_boole:\n",
        "    net.cuda()\n",
        "loss_metric = nn.BCEWithLogitsLoss()\n",
        "#optimizer = torch.optim.SGD(net.parameters(), lr = 0.001, momentum = 0.9, weight_decay = 0.001, dampening = 0.000002, nesterov = False)\n",
        "optimizer = torch.optim.Adam(net.parameters(), lr = lr)"
      ],
      "execution_count": 11,
      "outputs": []
    },
    {
      "cell_type": "code",
      "metadata": {
        "id": "ZbxV7Q_hm-39",
        "colab": {
          "base_uri": "https://localhost:8080/"
        },
        "outputId": "09fbfe78-c8be-4f7a-ccec-8f1dd03e6825"
      },
      "source": [
        "def weights_init(m):\n",
        "    if isinstance(m, nn.Conv2d) or isinstance(m, nn.Linear):\n",
        "        torch.nn.init.xavier_uniform(m.weight.data)\n",
        "torch.manual_seed(4)\n",
        "weights_init(net)\n",
        "net.train()\n",
        "\n",
        "loss_batch_store = []\n",
        "time_start = time.time()\n",
        "training_acc_store = []\n",
        "testing_acc_store = []\n",
        "testing_loss_store = []\n",
        "test_acc_max = 0.0\n",
        "count = 0\n",
        "ending_epoch = 0\n",
        "for epoch in range(epochs):\n",
        "    current_loss = 0\n",
        "    correct = 0\n",
        "    testing_acc = 0\n",
        "    testing_loss = 0\n",
        "    time1 = time.time()\n",
        "    for i, (x, y) in enumerate(train_loader):\n",
        "        \n",
        "        if gpu_boole:\n",
        "            x = x.cuda()\n",
        "            y = y.cuda()\n",
        "        optimizer.zero_grad()\n",
        "        \n",
        "        outputs = net.forward(x)\n",
        "        loss = loss_metric(outputs, y.unsqueeze(1))\n",
        "        loss.backward()\n",
        "        optimizer.step()\n",
        "        \n",
        "#         current_loss = loss.item()\n",
        "#         rounded = torch.round(torch.sigmoid(outputs))\n",
        "        \n",
        "#         correct = 100 * (((rounded == y.unsqueeze(1)).sum().float()) / y.size(0))\n",
        "            \n",
        "#         if i > 0 or epoch > 0:\n",
        "#             loss_batch_store.append(loss.cpu().data.numpy().item())\n",
        "#         if i > 0 or epoch > 0:\n",
        "#             training_acc_store.append(correct.cpu().data.numpy())\n",
        "        \n",
        "    for d, l in train_loader:\n",
        "\n",
        "        if gpu_boole:\n",
        "            d = d.cuda()\n",
        "            l = l.cuda()\n",
        "        outputs = net.forward(d)\n",
        "        loss = loss_metric(outputs, l.unsqueeze(1))\n",
        "\n",
        "        current_loss = loss.item()\n",
        "        # print(loss.grad)\n",
        "        rounded_train = torch.round(torch.sigmoid(outputs))\n",
        "        \n",
        "        correct = 100 * (((rounded_train == l.unsqueeze(1)).sum().float()) / l.size(0))\n",
        "        \n",
        "        \n",
        "            \n",
        "    for d, l in test_loader:\n",
        "\n",
        "        if gpu_boole:\n",
        "            d = d.cuda()\n",
        "            l = l.cuda()\n",
        "        outputs_test = net.forward(d)\n",
        "        loss_test = loss_metric(outputs_test, l.unsqueeze(1))\n",
        "\n",
        "        testing_loss = loss_test.item()\n",
        "        rounded_test = torch.round(torch.sigmoid(outputs_test))\n",
        "        \n",
        "        testing_acc = 100 * (((rounded_test == l.unsqueeze(1)).sum().float()) / l.size(0))\n",
        "        \n",
        "        \n",
        "    \n",
        "    time2 = time.time()\n",
        "    if i > 0 or epoch > 0:\n",
        "            training_acc_store.append(correct.cpu().data.numpy())\n",
        "    if i > 0 or epoch > 0:\n",
        "            loss_batch_store.append(current_loss) \n",
        "    if i > 0 or epoch > 0:\n",
        "            testing_acc_store.append(testing_acc.cpu().data.numpy())\n",
        "    if i > 0 or epoch > 0:\n",
        "            testing_loss_store.append(testing_loss)\n",
        "    # if testing_acc > test_acc_max:\n",
        "    #   test_acc_max = testing_acc\n",
        "    #   count = 0\n",
        "    # else:\n",
        "    #   count += 1\n",
        "    \n",
        "    print(\"Epoch\",epoch+1,':')\n",
        "    \n",
        "    print('Train accuracy: %f %%' % (correct))\n",
        "    print('Train loss: %f' % (current_loss / batch_size))\n",
        "    \n",
        "    print('Test accuracy: %f %%' % (testing_acc))\n",
        "    print('Test loss: %f' % (testing_loss / batch_size))\n",
        "    \n",
        "    print('Elapsed time for epoch:',time2 - time1,'s')\n",
        "    print('ETA of completion:',(time2 - time1)*(epochs - epoch - 1)/60,'minutes')\n",
        "    # if count >= 5:\n",
        "    #   print(\"Activating Early Stopping!\")\n",
        "    #   ending_epoch = epoch\n",
        "    #   break\n",
        "\n",
        "time_end = time.time()\n",
        "print ('Time elapsed:', (time_end - time_start) / 60, 'minutes')\n",
        "# print(\"Training completed after \" + str(ending_epoch) + \" epochs.\")    "
      ],
      "execution_count": 12,
      "outputs": [
        {
          "output_type": "stream",
          "name": "stdout",
          "text": [
            "Epoch 1 :\n",
            "Train accuracy: 33.333336 %\n",
            "Train loss: 0.022267\n",
            "Test accuracy: 100.000000 %\n",
            "Test loss: 0.019999\n",
            "Elapsed time for epoch: 0.030099153518676758 s\n",
            "ETA of completion: 0.012039661407470703 minutes\n",
            "Epoch 2 :\n",
            "Train accuracy: 66.666672 %\n",
            "Train loss: 0.021158\n",
            "Test accuracy: 100.000000 %\n",
            "Test loss: 0.020081\n",
            "Elapsed time for epoch: 0.025530576705932617 s\n",
            "ETA of completion: 0.009786721070607502 minutes\n",
            "Epoch 3 :\n",
            "Train accuracy: 33.333336 %\n",
            "Train loss: 0.022079\n",
            "Test accuracy: 100.000000 %\n",
            "Test loss: 0.020135\n",
            "Elapsed time for epoch: 0.025634765625 s\n",
            "ETA of completion: 0.0093994140625 minutes\n",
            "Epoch 4 :\n",
            "Train accuracy: 66.666672 %\n",
            "Train loss: 0.021099\n",
            "Test accuracy: 100.000000 %\n",
            "Test loss: 0.020263\n",
            "Elapsed time for epoch: 0.029538393020629883 s\n",
            "ETA of completion: 0.01033843755722046 minutes\n",
            "Epoch 5 :\n",
            "Train accuracy: 33.333336 %\n",
            "Train loss: 0.022210\n",
            "Test accuracy: 100.000000 %\n",
            "Test loss: 0.020351\n",
            "Elapsed time for epoch: 0.031386375427246094 s\n",
            "ETA of completion: 0.010462125142415365 minutes\n",
            "Epoch 6 :\n",
            "Train accuracy: 33.333336 %\n",
            "Train loss: 0.022013\n",
            "Test accuracy: 100.000000 %\n",
            "Test loss: 0.020470\n",
            "Elapsed time for epoch: 0.021736621856689453 s\n",
            "ETA of completion: 0.00688326358795166 minutes\n",
            "Epoch 7 :\n",
            "Train accuracy: 33.333336 %\n",
            "Train loss: 0.022170\n",
            "Test accuracy: 100.000000 %\n",
            "Test loss: 0.020553\n",
            "Elapsed time for epoch: 0.023066997528076172 s\n",
            "ETA of completion: 0.0069200992584228516 minutes\n",
            "Epoch 8 :\n",
            "Train accuracy: 33.333336 %\n",
            "Train loss: 0.021830\n",
            "Test accuracy: 100.000000 %\n",
            "Test loss: 0.020589\n",
            "Elapsed time for epoch: 0.026038169860839844 s\n",
            "ETA of completion: 0.007377481460571289 minutes\n",
            "Epoch 9 :\n",
            "Train accuracy: 33.333336 %\n",
            "Train loss: 0.021228\n",
            "Test accuracy: 100.000000 %\n",
            "Test loss: 0.020617\n",
            "Elapsed time for epoch: 0.028655290603637695 s\n",
            "ETA of completion: 0.007641410827636719 minutes\n",
            "Epoch 10 :\n",
            "Train accuracy: 33.333336 %\n",
            "Train loss: 0.021824\n",
            "Test accuracy: 100.000000 %\n",
            "Test loss: 0.020599\n",
            "Elapsed time for epoch: 0.023101091384887695 s\n",
            "ETA of completion: 0.005775272846221924 minutes\n",
            "Epoch 11 :\n",
            "Train accuracy: 33.333336 %\n",
            "Train loss: 0.021887\n",
            "Test accuracy: 100.000000 %\n",
            "Test loss: 0.020577\n",
            "Elapsed time for epoch: 0.0197141170501709 s\n",
            "ETA of completion: 0.004599960645039877 minutes\n",
            "Epoch 12 :\n",
            "Train accuracy: 33.333336 %\n",
            "Train loss: 0.021888\n",
            "Test accuracy: 100.000000 %\n",
            "Test loss: 0.020490\n",
            "Elapsed time for epoch: 0.024369239807128906 s\n",
            "ETA of completion: 0.005280001958211263 minutes\n",
            "Epoch 13 :\n",
            "Train accuracy: 66.666672 %\n",
            "Train loss: 0.021088\n",
            "Test accuracy: 100.000000 %\n",
            "Test loss: 0.020375\n",
            "Elapsed time for epoch: 0.0238497257232666 s\n",
            "ETA of completion: 0.00476994514465332 minutes\n",
            "Epoch 14 :\n",
            "Train accuracy: 0.000000 %\n",
            "Train loss: 0.022807\n",
            "Test accuracy: 100.000000 %\n",
            "Test loss: 0.020288\n",
            "Elapsed time for epoch: 0.02263927459716797 s\n",
            "ETA of completion: 0.004150533676147461 minutes\n",
            "Epoch 15 :\n",
            "Train accuracy: 33.333336 %\n",
            "Train loss: 0.022050\n",
            "Test accuracy: 100.000000 %\n",
            "Test loss: 0.020270\n",
            "Elapsed time for epoch: 0.024349689483642578 s\n",
            "ETA of completion: 0.004058281580607097 minutes\n",
            "Epoch 16 :\n",
            "Train accuracy: 66.666672 %\n",
            "Train loss: 0.020793\n",
            "Test accuracy: 100.000000 %\n",
            "Test loss: 0.020306\n",
            "Elapsed time for epoch: 0.030552387237548828 s\n",
            "ETA of completion: 0.0045828580856323246 minutes\n",
            "Epoch 17 :\n",
            "Train accuracy: 0.000000 %\n",
            "Train loss: 0.022432\n",
            "Test accuracy: 100.000000 %\n",
            "Test loss: 0.020306\n",
            "Elapsed time for epoch: 0.023648977279663086 s\n",
            "ETA of completion: 0.003153196970621745 minutes\n",
            "Epoch 18 :\n",
            "Train accuracy: 66.666672 %\n",
            "Train loss: 0.020864\n",
            "Test accuracy: 100.000000 %\n",
            "Test loss: 0.020331\n",
            "Elapsed time for epoch: 0.029213666915893555 s\n",
            "ETA of completion: 0.0034082611401875813 minutes\n",
            "Epoch 19 :\n",
            "Train accuracy: 33.333336 %\n",
            "Train loss: 0.021326\n",
            "Test accuracy: 100.000000 %\n",
            "Test loss: 0.020408\n",
            "Elapsed time for epoch: 0.02769756317138672 s\n",
            "ETA of completion: 0.002769756317138672 minutes\n",
            "Epoch 20 :\n",
            "Train accuracy: 66.666672 %\n",
            "Train loss: 0.021043\n",
            "Test accuracy: 100.000000 %\n",
            "Test loss: 0.020493\n",
            "Elapsed time for epoch: 0.02367401123046875 s\n",
            "ETA of completion: 0.001972834269205729 minutes\n",
            "Epoch 21 :\n",
            "Train accuracy: 0.000000 %\n",
            "Train loss: 0.022231\n",
            "Test accuracy: 100.000000 %\n",
            "Test loss: 0.020501\n",
            "Elapsed time for epoch: 0.024440526962280273 s\n",
            "ETA of completion: 0.0016293684641520182 minutes\n",
            "Epoch 22 :\n",
            "Train accuracy: 33.333336 %\n",
            "Train loss: 0.021661\n",
            "Test accuracy: 96.428574 %\n",
            "Test loss: 0.020540\n",
            "Elapsed time for epoch: 0.024991989135742188 s\n",
            "ETA of completion: 0.0012495994567871093 minutes\n",
            "Epoch 23 :\n",
            "Train accuracy: 33.333336 %\n",
            "Train loss: 0.021644\n",
            "Test accuracy: 96.428574 %\n",
            "Test loss: 0.020543\n",
            "Elapsed time for epoch: 0.03279995918273926 s\n",
            "ETA of completion: 0.0010933319727579752 minutes\n",
            "Epoch 24 :\n",
            "Train accuracy: 33.333336 %\n",
            "Train loss: 0.021831\n",
            "Test accuracy: 92.857147 %\n",
            "Test loss: 0.020550\n",
            "Elapsed time for epoch: 0.031385183334350586 s\n",
            "ETA of completion: 0.000523086388905843 minutes\n",
            "Epoch 25 :\n",
            "Train accuracy: 66.666672 %\n",
            "Train loss: 0.021214\n",
            "Test accuracy: 92.857147 %\n",
            "Test loss: 0.020598\n",
            "Elapsed time for epoch: 0.02744770050048828 s\n",
            "ETA of completion: 0.0 minutes\n",
            "Time elapsed: 0.012174006303151448 minutes\n"
          ]
        }
      ]
    },
    {
      "cell_type": "code",
      "metadata": {
        "id": "sJeiQi_Fm-3_",
        "colab": {
          "base_uri": "https://localhost:8080/"
        },
        "outputId": "7591849b-e7ec-4490-85d2-946ac7d87a12"
      },
      "source": [
        "net.eval()\n",
        "\n",
        "x = torch.FloatTensor(val_data)      \n",
        "y = torch.FloatTensor(val_labels)\n",
        "\n",
        "if gpu_boole:\n",
        "    x = x.cuda()\n",
        "    y = y.cuda()\n",
        "outputs = net.forward(x)\n",
        "loss = loss_metric(outputs, y.unsqueeze(1))\n",
        "\n",
        "current_loss = loss.item()\n",
        "rounded = torch.round(torch.sigmoid(outputs))\n",
        "        \n",
        "correct = 100 * (((rounded == y.unsqueeze(1)).sum().float()) / y.size(0))\n",
        "\n",
        "print('Test accuracy: %f %%' % (correct))\n",
        "print('Test loss: %f' % (current_loss / batch_size))"
      ],
      "execution_count": 13,
      "outputs": [
        {
          "output_type": "stream",
          "name": "stdout",
          "text": [
            "Test accuracy: 90.217392 %\n",
            "Test loss: 0.020635\n"
          ]
        }
      ]
    },
    {
      "cell_type": "code",
      "metadata": {
        "id": "HQ-Verp_m-4C",
        "colab": {
          "base_uri": "https://localhost:8080/",
          "height": 279
        },
        "outputId": "35a004f0-e237-4e7c-de21-3f34e91d92b1"
      },
      "source": [
        "plt.plot(loss_batch_store, '-o', label = 'train_loss', color = 'blue')\n",
        "plt.xlabel('Epoch Number')\n",
        "plt.ylabel('Training Loss for seed 4')\n",
        "plt.legend()\n",
        "plt.show()"
      ],
      "execution_count": 14,
      "outputs": [
        {
          "output_type": "display_data",
          "data": {
            "image/png": "[encoded data removed]",
            "text/plain": [
              "<Figure size 432x288 with 1 Axes>"
            ]
          },
          "metadata": {
            "needs_background": "light"
          }
        }
      ]
    },
    {
      "cell_type": "code",
      "metadata": {
        "id": "GQ3qbKB0m-4E",
        "colab": {
          "base_uri": "https://localhost:8080/",
          "height": 283
        },
        "outputId": "6995d15a-29cd-419d-b1a1-22e345682854"
      },
      "source": [
        "plt.plot(training_acc_store, '-o', label = 'train_accuracy', color = 'blue')\n",
        "plt.xlabel('Epoch Number')\n",
        "plt.ylabel('Training Accuracy for seed 4')\n",
        "plt.legend()\n",
        "plt.show()"
      ],
      "execution_count": 15,
      "outputs": [
        {
          "output_type": "display_data",
          "data": {
            "image/png": "[encoded data removed]",
            "text/plain": [
              "<Figure size 432x288 with 1 Axes>"
            ]
          },
          "metadata": {
            "needs_background": "light"
          }
        }
      ]
    },
    {
      "cell_type": "code",
      "metadata": {
        "id": "N1yJ1XNEm-4K",
        "colab": {
          "base_uri": "https://localhost:8080/",
          "height": 279
        },
        "outputId": "55db79a1-2dac-4724-b46f-88d693bf7c2d"
      },
      "source": [
        "plt.plot(testing_loss_store, '-o', label = 'test_loss', color = 'blue')\n",
        "plt.xlabel('Epoch Number')\n",
        "plt.ylabel('Testing Loss for seed 4')\n",
        "plt.legend()\n",
        "plt.show()"
      ],
      "execution_count": 16,
      "outputs": [
        {
          "output_type": "display_data",
          "data": {
            "image/png": "[encoded data removed]",
            "text/plain": [
              "<Figure size 432x288 with 1 Axes>"
            ]
          },
          "metadata": {
            "needs_background": "light"
          }
        }
      ]
    },
    {
      "cell_type": "code",
      "metadata": {
        "id": "AC5SiKnCm-4N",
        "colab": {
          "base_uri": "https://localhost:8080/",
          "height": 279
        },
        "outputId": "4d1fe523-0ddc-4bf5-85dd-c49640cc9e5d"
      },
      "source": [
        "plt.plot(testing_acc_store, '-o', label = 'test_accuracy', color = 'blue')\n",
        "plt.xlabel('Epoch Number')\n",
        "plt.ylabel('Testing Accuracy for seed 4')\n",
        "plt.legend()\n",
        "plt.show()"
      ],
      "execution_count": 17,
      "outputs": [
        {
          "output_type": "display_data",
          "data": {
            "image/png": "[encoded data removed]",
            "text/plain": [
              "<Figure size 432x288 with 1 Axes>"
            ]
          },
          "metadata": {
            "needs_background": "light"
          }
        }
      ]
    },
    {
      "cell_type": "code",
      "metadata": {
        "id": "pZNsx0wqpwVn",
        "colab": {
          "base_uri": "https://localhost:8080/"
        },
        "outputId": "1095f8f5-a4ed-4e74-94d0-3924895000d3"
      },
      "source": [
        "print ('The mean for Train Accuracy: %f' % (np.mean(np.array(training_acc_store))))\n",
        "print ('The mean for Train Loss: %f' % (np.mean(np.array(loss_batch_store))))\n",
        "print ('The mean for Test Accuracy: %f' % (np.mean(np.array(testing_acc_store))))\n",
        "print ('The mean for Test Loss: %f' % (np.mean(np.array(testing_loss_store))))"
      ],
      "execution_count": 18,
      "outputs": [
        {
          "output_type": "stream",
          "name": "stdout",
          "text": [
            "The mean for Train Accuracy: 38.666672\n",
            "The mean for Train Loss: 0.694575\n",
            "The mean for Test Accuracy: 99.142860\n",
            "The mean for Test Loss: 0.653098\n"
          ]
        }
      ]
    },
    {
      "cell_type": "code",
      "metadata": {
        "id": "WEow7B0npxJc",
        "colab": {
          "base_uri": "https://localhost:8080/"
        },
        "outputId": "84d0d6ac-e24d-40bc-a394-559eb67fedc0"
      },
      "source": [
        "print ('The standard deviation for Train Accuracy: %f' % (np.std(np.array(training_acc_store))))\n",
        "print ('The standard deviation for Train Loss: %f' % (np.mean(np.std(loss_batch_store))))\n",
        "print ('The standard deviation for Test Accuracy: %f' % (np.std(np.array(testing_acc_store))))\n",
        "print ('The standard deviation for Test Loss: %f' % (np.std(np.array(testing_loss_store))))"
      ],
      "execution_count": 19,
      "outputs": [
        {
          "output_type": "stream",
          "name": "stdout",
          "text": [
            "The standard deviation for Train Accuracy: 20.396078\n",
            "The standard deviation for Train Loss: 0.016831\n",
            "The standard deviation for Test Accuracy: 2.089818\n",
            "The standard deviation for Test Loss: 0.005414\n"
          ]
        }
      ]
    },
    {
      "cell_type": "code",
      "metadata": {
        "id": "eiBYcUoJDp4H"
      },
      "source": [
        "torch.save(net.state_dict(), \"linear_model\")\n"
      ],
      "execution_count": 20,
      "outputs": []
    },
    {
      "cell_type": "code",
      "metadata": {
        "colab": {
          "base_uri": "https://localhost:8080/"
        },
        "id": "XugaEdD7INQ3",
        "outputId": "58fd5911-4e37-44fc-bd9c-5e1a27e8afe9"
      },
      "source": [
        "false_percentage = len(np.where(Y == 0)[0]) / len(Y) * 100\n",
        "print(\"The percentage of false in the dataset is \" + str(false_percentage))"
      ],
      "execution_count": 21,
      "outputs": [
        {
          "output_type": "stream",
          "name": "stdout",
          "text": [
            "The percentage of false in the dataset is 5.381165919282512\n"
          ]
        }
      ]
    },
    {
      "cell_type": "code",
      "metadata": {
        "colab": {
          "base_uri": "https://localhost:8080/"
        },
        "id": "SP0FfXPsk6Rv",
        "outputId": "62195097-8ce7-4942-97bc-bc5bde5fd931"
      },
      "source": [
        "print(rounded)"
      ],
      "execution_count": 22,
      "outputs": [
        {
          "output_type": "stream",
          "name": "stdout",
          "text": [
            "tensor([[1.],\n",
            "        [1.],\n",
            "        [1.],\n",
            "        [1.],\n",
            "        [1.],\n",
            "        [1.],\n",
            "        [1.],\n",
            "        [1.],\n",
            "        [1.],\n",
            "        [1.],\n",
            "        [1.],\n",
            "        [1.],\n",
            "        [1.],\n",
            "        [1.],\n",
            "        [1.],\n",
            "        [1.],\n",
            "        [1.],\n",
            "        [1.],\n",
            "        [1.],\n",
            "        [1.],\n",
            "        [1.],\n",
            "        [1.],\n",
            "        [0.],\n",
            "        [1.],\n",
            "        [1.],\n",
            "        [1.],\n",
            "        [1.],\n",
            "        [1.],\n",
            "        [1.],\n",
            "        [1.],\n",
            "        [1.],\n",
            "        [1.],\n",
            "        [1.],\n",
            "        [1.],\n",
            "        [1.],\n",
            "        [1.],\n",
            "        [1.],\n",
            "        [1.],\n",
            "        [1.],\n",
            "        [1.],\n",
            "        [1.],\n",
            "        [1.],\n",
            "        [1.],\n",
            "        [1.],\n",
            "        [1.],\n",
            "        [1.],\n",
            "        [1.],\n",
            "        [1.],\n",
            "        [1.],\n",
            "        [1.],\n",
            "        [1.],\n",
            "        [0.],\n",
            "        [0.],\n",
            "        [1.],\n",
            "        [1.],\n",
            "        [1.],\n",
            "        [1.],\n",
            "        [1.],\n",
            "        [1.],\n",
            "        [1.],\n",
            "        [1.],\n",
            "        [1.],\n",
            "        [1.],\n",
            "        [1.],\n",
            "        [1.],\n",
            "        [1.],\n",
            "        [1.],\n",
            "        [1.],\n",
            "        [1.],\n",
            "        [1.],\n",
            "        [1.],\n",
            "        [0.],\n",
            "        [1.],\n",
            "        [1.],\n",
            "        [1.],\n",
            "        [1.],\n",
            "        [1.],\n",
            "        [1.],\n",
            "        [1.],\n",
            "        [1.],\n",
            "        [1.],\n",
            "        [1.],\n",
            "        [1.],\n",
            "        [1.],\n",
            "        [0.],\n",
            "        [1.],\n",
            "        [1.],\n",
            "        [1.],\n",
            "        [1.],\n",
            "        [1.],\n",
            "        [1.],\n",
            "        [1.]], device='cuda:0', grad_fn=<RoundBackward0>)\n"
          ]
        }
      ]
    }
  ]
}