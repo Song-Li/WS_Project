{
  "nbformat": 4,
  "nbformat_minor": 0,
  "metadata": {
    "accelerator": "GPU",
    "colab": {
      "name": "WS_Project.ipynb",
      "provenance": [],
      "collapsed_sections": []
    },
    "kernelspec": {
      "display_name": "Python 3",
      "language": "python",
      "name": "python3"
    },
    "language_info": {
      "codemirror_mode": {
        "name": "ipython",
        "version": 3
      },
      "file_extension": ".py",
      "mimetype": "text/x-python",
      "name": "python",
      "nbconvert_exporter": "python",
      "pygments_lexer": "ipython3",
      "version": "3.8.5"
    }
  },
  "cells": [
    {
      "cell_type": "code",
      "metadata": {
        "id": "a9AApzdJuGo1"
      },
      "source": [
        "# pip install https://github.com/ufoym/imbalanced-dataset-sampler/archive/master.zip\n"
      ],
      "execution_count": null,
      "outputs": []
    },
    {
      "cell_type": "code",
      "metadata": {
        "id": "yB8Orgnnm-3k"
      },
      "source": [
        "#Important Note About Current File:\n",
        "#This code was modified and completed based on A homework I completed myself in the Deep Learning Course taught by Professor Unberath.\n",
        "\n",
        "import numpy as np\n",
        "import torch\n",
        "import torch.nn as nn\n",
        "import torchvision\n",
        "import torchvision.datasets as dataset\n",
        "import torchvision.transforms as transforms\n",
        "import random\n",
        "\n",
        "import matplotlib.pyplot as plt\n",
        "import time\n",
        "%matplotlib inline\n",
        "\n",
        "import matplotlib.pyplot as plt\n",
        "import matplotlib\n",
        "from matplotlib.patches import Polygon\n",
        "from matplotlib.collections import PatchCollection\n",
        "\n",
        "from torch.autograd import Variable\n",
        "import torch.nn.functional as F\n",
        "\n",
        "from sklearn.preprocessing import StandardScaler\n",
        "# from pytorch_lightning.callbacks.early_stopping import EarlyStopping\n",
        "# from torchsampler import ImbalancedDatasetSampler\n",
        "from imblearn.over_sampling import RandomOverSampler\n",
        "from sklearn.metrics import roc_auc_score"
      ],
      "execution_count": null,
      "outputs": []
    },
    {
      "cell_type": "code",
      "metadata": {
        "id": "0C0y-bV74ZNw"
      },
      "source": [
        "file_name = \"aidata.log\"\n",
        "X = []\n",
        "Y = []\n",
        "with open( file_name , \"r\") as file:\n",
        "  for line in file:\n",
        "    line = line.replace(\"[\", \"\")\n",
        "    line = line.replace(\"]\", \",\")\n",
        "    line = line.replace(\"True\", \"1\")\n",
        "    line = line.replace(\"False\", \"0\")\n",
        "    lst = line.split(\",\")\n",
        "    X.append(lst[:-1])\n",
        "    Y.append(lst[-1].strip())\n",
        "    # print(lst[-1])\n",
        "\n",
        "file_name = \"aidata_2.log\"\n",
        "with open( file_name , \"r\") as file:\n",
        "  for line in file:\n",
        "    line = line.replace(\"[\", \"\")\n",
        "    line = line.replace(\"]\", \",\")\n",
        "    line = line.replace(\"True\", \"1\")\n",
        "    line = line.replace(\"False\", \"0\")\n",
        "    lst = line.split(\",\")\n",
        "    X.append(lst[:-1])\n",
        "    Y.append(lst[-1].strip())\n",
        "    # print(lst[-1])\n",
        "X = np.array(X).astype(int)\n",
        "Y = np.array(Y).astype(int)\n",
        "\n",
        "split_ratio = 0.6\n",
        "split_tr = int(np.ceil(len(X) * split_ratio))\n",
        "split_t = len(X) - split_tr\n",
        "train_data = []\n",
        "val_data = []\n",
        "train_labels = []\n",
        "val_labels = []\n",
        "\n",
        "for i in range(len(Y)):\n",
        "  choice = random.random()\n",
        "  if choice >= split_ratio:\n",
        "    val_data.append(X[i])\n",
        "    val_labels.append(Y[i])\n",
        "  else:\n",
        "    train_data.append(X[i])\n",
        "    train_labels.append(Y[i])\n",
        "\n",
        "train_data = np.array(train_data)\n",
        "val_data = np.array(val_data)\n",
        "train_labels = np.array(train_labels)\n",
        "val_labels = np.array(val_labels)\n",
        "train_labels_before = np.copy(train_labels)\n",
        "\n",
        "# val_data, val_labels = ros.fit_resample(val_data, val_labels)"
      ],
      "execution_count": null,
      "outputs": []
    },
    {
      "cell_type": "code",
      "metadata": {
        "colab": {
          "base_uri": "https://localhost:8080/"
        },
        "id": "yfb0MaKjPuMM",
        "outputId": "9fe919a5-5129-4155-feea-4261abc1295b"
      },
      "source": [
        "ros = RandomOverSampler(random_state=42)\n",
        "train_data_ros, train_labels_ros = ros.fit_resample(train_data, train_labels)\n",
        "print(len(np.where(train_labels_ros==1)[0]) / len(train_labels_ros))\n",
        "print(len(np.where(train_labels_ros==0)[0]) / len(train_labels_ros))"
      ],
      "execution_count": null,
      "outputs": [
        {
          "output_type": "stream",
          "name": "stdout",
          "text": [
            "0.5\n",
            "0.5\n"
          ]
        }
      ]
    },
    {
      "cell_type": "code",
      "metadata": {
        "colab": {
          "base_uri": "https://localhost:8080/",
          "height": 297
        },
        "id": "MIeELUUMK3wu",
        "outputId": "24125fcd-b712-45d2-d55a-0aa58ea771ab"
      },
      "source": [
        "classes = [False, True]\n",
        "before = [len(np.where(train_labels_before==0)[0]), len(np.where(train_labels_before==1)[0])]\n",
        "after = [len(np.where(train_labels_ros==0)[0]), len(np.where(train_labels_ros==1)[0])]\n",
        "fig, graph = plt.subplots(1, 2)\n",
        "graph[0].bar(classes, before)\n",
        "graph[0].set_title(\"Comparisons before resampling\")\n",
        "\n",
        "graph[1].bar(classes, after)\n",
        "graph[1].set_title(\"Comparisons after resampling\")\n",
        "\n",
        "fig.tight_layout()\n",
        "plt.show()"
      ],
      "execution_count": null,
      "outputs": [
        {
          "output_type": "display_data",
          "data": {
            "image/png": "[encoded data removed]",
            "text/plain": [
              "<Figure size 432x288 with 2 Axes>"
            ]
          },
          "metadata": {
            "needs_background": "light"
          }
        }
      ]
    },
    {
      "cell_type": "code",
      "metadata": {
        "id": "SsP4_Wyz4Xtt"
      },
      "source": [
        "gpu_boole = torch.cuda.is_available()\n",
        "batch_size, input_dim, hidden_1, hidden_2, hidden_3, hidden_4, hidden_5, output_dim = 32, len(X[0]), 70, 80, 100, 120, 40, 1\n",
        "# batch_size, input_dim, hidden_1, hidden_2, hidden_3, hidden_4, hidden_5, output_dim = 32, len(X[0]), 10, 20, 80, 120, 60, 1\n",
        "\n",
        "# np.random.rand(100)"
      ],
      "execution_count": null,
      "outputs": []
    },
    {
      "cell_type": "code",
      "metadata": {
        "colab": {
          "base_uri": "https://localhost:8080/"
        },
        "id": "kGq0q4btm-3q",
        "outputId": "7b737f42-7151-4876-ec25-008658956919"
      },
      "source": [
        "# train_data, val_data = np.split(X, [split_tr])\n",
        "# train_labels, val_labels = np.split(Y, [split_tr])\n",
        "\n",
        "scaler = StandardScaler()\n",
        "train_data_normalized = scaler.fit_transform(train_data_ros)\n",
        "val_data_normalized = scaler.fit_transform(val_data)\n",
        "print(train_data_normalized.shape, train_labels.shape, val_data_normalized.shape, val_labels.shape)"
      ],
      "execution_count": null,
      "outputs": [
        {
          "output_type": "stream",
          "name": "stdout",
          "text": [
            "(430, 65) (267,) (198, 65) (198,)\n"
          ]
        }
      ]
    },
    {
      "cell_type": "code",
      "metadata": {
        "id": "jTrK4smnm-3t"
      },
      "source": [
        "epochs = 200\n",
        "lr = 0.001"
      ],
      "execution_count": null,
      "outputs": []
    },
    {
      "cell_type": "code",
      "metadata": {
        "id": "Kb0OUKDgm-3w"
      },
      "source": [
        "class assign_label(torch.utils.data.Dataset):\n",
        "    def __init__(self, x, y):\n",
        "        self.x = x\n",
        "        self.y = y\n",
        "    def __getitem__(self, i):\n",
        "        return (self.x[i], self.y[i])\n",
        "    def __len__(self):\n",
        "        return len(self.x)\n",
        "    def get_labels(self):\n",
        "        return self.y"
      ],
      "execution_count": null,
      "outputs": []
    },
    {
      "cell_type": "code",
      "metadata": {
        "id": "dqBTPBbkm-3y"
      },
      "source": [
        "training = assign_label(torch.FloatTensor(train_data_normalized),\n",
        "                         torch.FloatTensor(train_labels_ros))\n",
        "testing = assign_label(torch.FloatTensor(val_data_normalized), torch.FloatTensor(val_labels))"
      ],
      "execution_count": null,
      "outputs": []
    },
    {
      "cell_type": "code",
      "metadata": {
        "id": "asEao4hnm-31"
      },
      "source": [
        "train_loader = torch.utils.data.DataLoader(dataset=training, batch_size = batch_size, shuffle=True)\n",
        "test_loader = torch.utils.data.DataLoader(dataset=testing, batch_size = batch_size, shuffle=False)"
      ],
      "execution_count": null,
      "outputs": []
    },
    {
      "cell_type": "code",
      "metadata": {
        "id": "dlM0fAn6m-34"
      },
      "source": [
        "class Net(nn.Module):\n",
        "  def __init__(self, input_size, h_1, h_2, h_3, h_4, h_5, num_classes):\n",
        "    super(Net, self).__init__()\n",
        "\n",
        "    ##feedfoward layers:\n",
        "    self.ff1 = nn.Linear(input_size, h_1) #input\n",
        "\n",
        "    self.ff2 = nn.Linear(h_1, h_2) #hidden layers\n",
        "\n",
        "    self.ff3 = nn.Linear(h_2, h_3)\n",
        "    \n",
        "    self.ff4 = nn.Linear(h_3, h_4)\n",
        "    \n",
        "    self.ff5 = nn.Linear(h_4, h_5)\n",
        "    \n",
        "    self.ff_out = nn.Linear(h_5, num_classes) #logit layer     \n",
        "\n",
        "    ##activations:\n",
        "    self.sigmoid = nn.Sigmoid()\n",
        "    self.relu = nn.ReLU()\n",
        "                \n",
        "  def forward(self, input_data):\n",
        "    #out = self.relu(self.ff1(input_data))\n",
        "    #out = self.relu(self.ff2(out))\n",
        "    out = self.sigmoid(self.ff1(input_data))\n",
        "    \n",
        "    out = self.sigmoid(self.ff2(out))\n",
        "    out = self.sigmoid(self.ff3(out))\n",
        "    out = self.sigmoid(self.ff4(out))\n",
        "    out = self.sigmoid(self.ff5(out))\n",
        "    \n",
        "    out = self.ff_out(out)\n",
        "    return out #returns class probabilities for each set of data"
      ],
      "execution_count": null,
      "outputs": []
    },
    {
      "cell_type": "code",
      "metadata": {
        "id": "yuwGh-mXm-36"
      },
      "source": [
        "net = Net(input_size=input_dim, h_1=hidden_1, h_2=hidden_2, h_3= hidden_3, h_4 = hidden_4, h_5 = hidden_5, num_classes=output_dim)\n",
        "if gpu_boole:\n",
        "    net.cuda()\n",
        "loss_metric = nn.BCEWithLogitsLoss()\n",
        "#optimizer = torch.optim.SGD(net.parameters(), lr = 0.001, momentum = 0.9, weight_decay = 0.001, dampening = 0.000002, nesterov = False)\n",
        "optimizer = torch.optim.Adam(net.parameters(), lr = lr)"
      ],
      "execution_count": null,
      "outputs": []
    },
    {
      "cell_type": "code",
      "metadata": {
        "colab": {
          "base_uri": "https://localhost:8080/"
        },
        "id": "ZbxV7Q_hm-39",
        "outputId": "586f86be-7283-4c36-aa2c-8d81fc1fcec3"
      },
      "source": [
        "def weights_init(m):\n",
        "    if isinstance(m, nn.Conv2d) or isinstance(m, nn.Linear):\n",
        "        torch.nn.init.xavier_uniform(m.weight.data)\n",
        "torch.manual_seed(4)\n",
        "weights_init(net)\n",
        "net.train()\n",
        "\n",
        "loss_batch_store = []\n",
        "time_start = time.time()\n",
        "training_acc_store = []\n",
        "testing_acc_store = []\n",
        "testing_loss_store = []\n",
        "test_acc_max = 0.0\n",
        "count = 0\n",
        "ending_epoch = 0\n",
        "for epoch in range(epochs):\n",
        "    current_loss = 0\n",
        "    correct = 0\n",
        "    testing_acc = 0\n",
        "    testing_loss = 0\n",
        "    time1 = time.time()\n",
        "    for i, (x, y) in enumerate(train_loader):\n",
        "        \n",
        "        if gpu_boole:\n",
        "            x = x.cuda()\n",
        "            y = y.cuda()\n",
        "        optimizer.zero_grad()\n",
        "        x.requires_grad = True\n",
        "        outputs = net.forward(x)\n",
        "        loss = loss_metric(outputs, y.unsqueeze(1))\n",
        "        # x.register_hook(lambda grad: print(grad.size())) \n",
        "        loss.backward()\n",
        "        \n",
        "        optimizer.step()\n",
        "        \n",
        "    for d, l in train_loader:\n",
        "\n",
        "        if gpu_boole:\n",
        "            d = d.cuda()\n",
        "            l = l.cuda()\n",
        "        outputs = net.forward(d)\n",
        "        loss = loss_metric(outputs, l.unsqueeze(1))\n",
        "\n",
        "        current_loss = loss.item()\n",
        "        # print(loss.grad)\n",
        "        rounded_train = torch.round(torch.sigmoid(outputs))\n",
        "        \n",
        "        correct = 100 * (((rounded_train == l.unsqueeze(1)).sum().float()) / l.size(0))\n",
        "        \n",
        "        \n",
        "            \n",
        "    for d, l in test_loader:\n",
        "\n",
        "        if gpu_boole:\n",
        "            d = d.cuda()\n",
        "            l = l.cuda()\n",
        "        outputs_test = net.forward(d)\n",
        "        loss_test = loss_metric(outputs_test, l.unsqueeze(1))\n",
        "\n",
        "        testing_loss = loss_test.item()\n",
        "        rounded_test = torch.round(torch.sigmoid(outputs_test))\n",
        "        \n",
        "        testing_acc = 100 * (((rounded_test == l.unsqueeze(1)).sum().float()) / l.size(0))\n",
        "        \n",
        "        \n",
        "    \n",
        "    time2 = time.time()\n",
        "    if i > 0 or epoch > 0:\n",
        "            training_acc_store.append(correct.cpu().data.numpy())\n",
        "    if i > 0 or epoch > 0:\n",
        "            loss_batch_store.append(current_loss) \n",
        "    if i > 0 or epoch > 0:\n",
        "            testing_acc_store.append(testing_acc.cpu().data.numpy())\n",
        "    if i > 0 or epoch > 0:\n",
        "            testing_loss_store.append(testing_loss)\n",
        "    # if testing_acc > test_acc_max:\n",
        "    #   test_acc_max = testing_acc\n",
        "    #   count = 0\n",
        "    # else:\n",
        "    #   count += 1\n",
        "    if epoch % 10 == 0:\n",
        "      print(\"Epoch\",epoch+1,':')\n",
        "    \n",
        "      print('Train accuracy: %f %%' % (correct))\n",
        "      print('Train loss: %f' % (current_loss / batch_size))\n",
        "    \n",
        "      print('Test accuracy: %f %%' % (testing_acc))\n",
        "      print('Test loss: %f' % (testing_loss / batch_size))\n",
        "    \n",
        "      print('Elapsed time for epoch:',time2 - time1,'s')\n",
        "      print('ETA of completion:',(time2 - time1)*(epochs - epoch - 1)/60,'minutes')\n",
        "\n",
        "time_end = time.time()\n",
        "print ('Time elapsed:', (time_end - time_start) / 60, 'minutes')\n",
        "# print(\"Training completed after \" + str(ending_epoch) + \" epochs.\")    "
      ],
      "execution_count": null,
      "outputs": [
        {
          "output_type": "stream",
          "name": "stdout",
          "text": [
            "Epoch 1 :\n",
            "Train accuracy: 35.714287 %\n",
            "Train loss: 0.021868\n",
            "Test accuracy: 33.333336 %\n",
            "Test loss: 0.021903\n",
            "Elapsed time for epoch: 0.13550543785095215 s\n",
            "ETA of completion: 0.4494263688723246 minutes\n",
            "Epoch 11 :\n",
            "Train accuracy: 64.285721 %\n",
            "Train loss: 0.020406\n",
            "Test accuracy: 33.333336 %\n",
            "Test loss: 0.036259\n",
            "Elapsed time for epoch: 0.08772063255310059 s\n",
            "ETA of completion: 0.27631999254226686 minutes\n",
            "Epoch 21 :\n",
            "Train accuracy: 92.857147 %\n",
            "Train loss: 0.006384\n",
            "Test accuracy: 33.333336 %\n",
            "Test loss: 0.047429\n",
            "Elapsed time for epoch: 0.08404326438903809 s\n",
            "ETA of completion: 0.2507290720939636 minutes\n",
            "Epoch 31 :\n",
            "Train accuracy: 85.714294 %\n",
            "Train loss: 0.013782\n",
            "Test accuracy: 33.333336 %\n",
            "Test loss: 0.049955\n",
            "Elapsed time for epoch: 0.08208250999450684 s\n",
            "ETA of completion: 0.23119906981786092 minutes\n",
            "Epoch 41 :\n",
            "Train accuracy: 92.857147 %\n",
            "Train loss: 0.007628\n",
            "Test accuracy: 33.333336 %\n",
            "Test loss: 0.050305\n",
            "Elapsed time for epoch: 0.08173155784606934 s\n",
            "ETA of completion: 0.21658862829208375 minutes\n",
            "Epoch 51 :\n",
            "Train accuracy: 100.000000 %\n",
            "Train loss: 0.003128\n",
            "Test accuracy: 33.333336 %\n",
            "Test loss: 0.046622\n",
            "Elapsed time for epoch: 0.09096646308898926 s\n",
            "ETA of completion: 0.2259000500043233 minutes\n",
            "Epoch 61 :\n",
            "Train accuracy: 92.857147 %\n",
            "Train loss: 0.008184\n",
            "Test accuracy: 33.333336 %\n",
            "Test loss: 0.043374\n",
            "Elapsed time for epoch: 0.08271670341491699 s\n",
            "ETA of completion: 0.19162702957789104 minutes\n",
            "Epoch 71 :\n",
            "Train accuracy: 92.857147 %\n",
            "Train loss: 0.008019\n",
            "Test accuracy: 50.000000 %\n",
            "Test loss: 0.039666\n",
            "Elapsed time for epoch: 0.1042940616607666 s\n",
            "ETA of completion: 0.2242322325706482 minutes\n",
            "Epoch 81 :\n",
            "Train accuracy: 100.000000 %\n",
            "Train loss: 0.002825\n",
            "Test accuracy: 50.000000 %\n",
            "Test loss: 0.039988\n",
            "Elapsed time for epoch: 0.09592342376708984 s\n",
            "ETA of completion: 0.1902481238047282 minutes\n",
            "Epoch 91 :\n",
            "Train accuracy: 100.000000 %\n",
            "Train loss: 0.003003\n",
            "Test accuracy: 50.000000 %\n",
            "Test loss: 0.039704\n",
            "Elapsed time for epoch: 0.08815836906433105 s\n",
            "ETA of completion: 0.1601543704668681 minutes\n",
            "Epoch 101 :\n",
            "Train accuracy: 100.000000 %\n",
            "Train loss: 0.002932\n",
            "Test accuracy: 50.000000 %\n",
            "Test loss: 0.039502\n",
            "Elapsed time for epoch: 0.08926630020141602 s\n",
            "ETA of completion: 0.14728939533233643 minutes\n",
            "Epoch 111 :\n",
            "Train accuracy: 100.000000 %\n",
            "Train loss: 0.002824\n",
            "Test accuracy: 50.000000 %\n",
            "Test loss: 0.039326\n",
            "Elapsed time for epoch: 0.09065628051757812 s\n",
            "ETA of completion: 0.13447348276774088 minutes\n",
            "Epoch 121 :\n",
            "Train accuracy: 100.000000 %\n",
            "Train loss: 0.003075\n",
            "Test accuracy: 50.000000 %\n",
            "Test loss: 0.038806\n",
            "Elapsed time for epoch: 0.08138895034790039 s\n",
            "ETA of completion: 0.10716211795806885 minutes\n",
            "Epoch 131 :\n",
            "Train accuracy: 92.857147 %\n",
            "Train loss: 0.008217\n",
            "Test accuracy: 50.000000 %\n",
            "Test loss: 0.039105\n",
            "Elapsed time for epoch: 0.08444952964782715 s\n",
            "ETA of completion: 0.09711695909500122 minutes\n",
            "Epoch 141 :\n",
            "Train accuracy: 85.714294 %\n",
            "Train loss: 0.013665\n",
            "Test accuracy: 50.000000 %\n",
            "Test loss: 0.039460\n",
            "Elapsed time for epoch: 0.08302044868469238 s\n",
            "ETA of completion: 0.08163677453994751 minutes\n",
            "Epoch 151 :\n",
            "Train accuracy: 100.000000 %\n",
            "Train loss: 0.002859\n",
            "Test accuracy: 50.000000 %\n",
            "Test loss: 0.039569\n",
            "Elapsed time for epoch: 0.08362841606140137 s\n",
            "ETA of completion: 0.06829653978347779 minutes\n",
            "Epoch 161 :\n",
            "Train accuracy: 100.000000 %\n",
            "Train loss: 0.002938\n",
            "Test accuracy: 50.000000 %\n",
            "Test loss: 0.039272\n",
            "Elapsed time for epoch: 0.0863792896270752 s\n",
            "ETA of completion: 0.056146538257598876 minutes\n",
            "Epoch 171 :\n",
            "Train accuracy: 100.000000 %\n",
            "Train loss: 0.002964\n",
            "Test accuracy: 50.000000 %\n",
            "Test loss: 0.039118\n",
            "Elapsed time for epoch: 0.09214234352111816 s\n",
            "ETA of completion: 0.04453546603520711 minutes\n",
            "Epoch 181 :\n",
            "Train accuracy: 85.714294 %\n",
            "Train loss: 0.013401\n",
            "Test accuracy: 50.000000 %\n",
            "Test loss: 0.039813\n",
            "Elapsed time for epoch: 0.08097076416015625 s\n",
            "ETA of completion: 0.02564074198404948 minutes\n",
            "Epoch 191 :\n",
            "Train accuracy: 85.714294 %\n",
            "Train loss: 0.013458\n",
            "Test accuracy: 50.000000 %\n",
            "Test loss: 0.039303\n",
            "Elapsed time for epoch: 0.08270788192749023 s\n",
            "ETA of completion: 0.012406182289123536 minutes\n",
            "Time elapsed: 0.29985024134318033 minutes\n"
          ]
        }
      ]
    },
    {
      "cell_type": "code",
      "metadata": {
        "colab": {
          "base_uri": "https://localhost:8080/"
        },
        "id": "sJeiQi_Fm-3_",
        "outputId": "142fb738-911d-4775-8eab-c3a3b5d357d8"
      },
      "source": [
        "net.eval()\n",
        "\n",
        "x = torch.FloatTensor(val_data_normalized)      \n",
        "y = torch.FloatTensor(val_labels)\n",
        "\n",
        "if gpu_boole:\n",
        "    x = x.cuda()\n",
        "    y = y.cuda()\n",
        "outputs = net.forward(x)\n",
        "loss = loss_metric(outputs, y.unsqueeze(1))\n",
        "\n",
        "current_loss = loss.item()\n",
        "rounded = torch.round(torch.sigmoid(outputs))\n",
        "        \n",
        "correct = 100 * (((rounded == y.unsqueeze(1)).sum().float()) / y.size(0))\n",
        "\n",
        "print('Test accuracy: %f %%' % (correct))\n",
        "print('Test loss: %f' % (current_loss / batch_size))"
      ],
      "execution_count": null,
      "outputs": [
        {
          "output_type": "stream",
          "name": "stdout",
          "text": [
            "Test accuracy: 75.252525 %\n",
            "Test loss: 0.020817\n"
          ]
        }
      ]
    },
    {
      "cell_type": "code",
      "metadata": {
        "colab": {
          "base_uri": "https://localhost:8080/",
          "height": 279
        },
        "id": "HQ-Verp_m-4C",
        "outputId": "38270e5b-92f5-4d60-c593-a4e41c72a84b"
      },
      "source": [
        "plt.plot(loss_batch_store, '-o', label = 'train_loss', color = 'blue')\n",
        "plt.xlabel('Epoch Number')\n",
        "plt.ylabel('Training Loss for seed 4')\n",
        "plt.legend()\n",
        "plt.show()"
      ],
      "execution_count": null,
      "outputs": [
        {
          "output_type": "display_data",
          "data": {
            "image/png": "[encoded data removed]",
            "text/plain": [
              "<Figure size 432x288 with 1 Axes>"
            ]
          },
          "metadata": {
            "needs_background": "light"
          }
        }
      ]
    },
    {
      "cell_type": "code",
      "metadata": {
        "colab": {
          "base_uri": "https://localhost:8080/",
          "height": 279
        },
        "id": "GQ3qbKB0m-4E",
        "outputId": "a366b7b8-679d-4200-c0da-299d82229e86"
      },
      "source": [
        "plt.plot(training_acc_store, '-o', label = 'train_accuracy', color = 'blue')\n",
        "plt.xlabel('Epoch Number')\n",
        "plt.ylabel('Training Accuracy for seed 4')\n",
        "plt.legend()\n",
        "plt.show()"
      ],
      "execution_count": null,
      "outputs": [
        {
          "output_type": "display_data",
          "data": {
            "image/png": "[encoded data removed]",
            "text/plain": [
              "<Figure size 432x288 with 1 Axes>"
            ]
          },
          "metadata": {
            "needs_background": "light"
          }
        }
      ]
    },
    {
      "cell_type": "code",
      "metadata": {
        "colab": {
          "base_uri": "https://localhost:8080/",
          "height": 279
        },
        "id": "N1yJ1XNEm-4K",
        "outputId": "99b0489c-7acd-4572-8d96-200f0e05063e"
      },
      "source": [
        "plt.plot(testing_loss_store, '-o', label = 'test_loss', color = 'blue')\n",
        "plt.xlabel('Epoch Number')\n",
        "plt.ylabel('Testing Loss for seed 4')\n",
        "plt.legend()\n",
        "plt.show()"
      ],
      "execution_count": null,
      "outputs": [
        {
          "output_type": "display_data",
          "data": {
            "image/png": "[encoded data removed]",
            "text/plain": [
              "<Figure size 432x288 with 1 Axes>"
            ]
          },
          "metadata": {
            "needs_background": "light"
          }
        }
      ]
    },
    {
      "cell_type": "code",
      "metadata": {
        "colab": {
          "base_uri": "https://localhost:8080/",
          "height": 279
        },
        "id": "AC5SiKnCm-4N",
        "outputId": "beba83e6-e247-4d75-f0ce-41e609b65b0e"
      },
      "source": [
        "plt.plot(testing_acc_store, '-o', label = 'test_accuracy', color = 'blue')\n",
        "plt.xlabel('Epoch Number')\n",
        "plt.ylabel('Testing Accuracy for seed 4')\n",
        "plt.legend()\n",
        "plt.show()"
      ],
      "execution_count": null,
      "outputs": [
        {
          "output_type": "display_data",
          "data": {
            "image/png": "[encoded data removed]",
            "text/plain": [
              "<Figure size 432x288 with 1 Axes>"
            ]
          },
          "metadata": {
            "needs_background": "light"
          }
        }
      ]
    },
    {
      "cell_type": "code",
      "metadata": {
        "colab": {
          "base_uri": "https://localhost:8080/"
        },
        "id": "pZNsx0wqpwVn",
        "outputId": "34b118fd-25bb-4116-c6de-3794db326e14"
      },
      "source": [
        "print ('The mean for Train Accuracy: %f' % (np.mean(np.array(training_acc_store))))\n",
        "print ('The mean for Train Loss: %f' % (np.mean(np.array(loss_batch_store))))\n",
        "print ('The mean for Test Accuracy: %f' % (np.mean(np.array(testing_acc_store))))\n",
        "print ('The mean for Test Loss: %f' % (np.mean(np.array(testing_loss_store))))"
      ],
      "execution_count": null,
      "outputs": [
        {
          "output_type": "stream",
          "name": "stdout",
          "text": [
            "The mean for Train Accuracy: 88.821426\n",
            "The mean for Train Loss: 0.323713\n",
            "The mean for Test Accuracy: 45.583336\n",
            "The mean for Test Loss: 1.299266\n"
          ]
        }
      ]
    },
    {
      "cell_type": "code",
      "metadata": {
        "colab": {
          "base_uri": "https://localhost:8080/"
        },
        "id": "WEow7B0npxJc",
        "outputId": "d07059ac-d8fe-4c03-efd4-025bb94c91fc"
      },
      "source": [
        "print ('The standard deviation for Train Accuracy: %f' % (np.std(np.array(training_acc_store))))\n",
        "print ('The standard deviation for Train Loss: %f' % (np.mean(np.std(loss_batch_store))))\n",
        "print ('The standard deviation for Test Accuracy: %f' % (np.std(np.array(testing_acc_store))))\n",
        "print ('The standard deviation for Test Loss: %f' % (np.std(np.array(testing_loss_store))))"
      ],
      "execution_count": null,
      "outputs": [
        {
          "output_type": "stream",
          "name": "stdout",
          "text": [
            "The standard deviation for Train Accuracy: 12.404276\n",
            "The standard deviation for Train Loss: 0.187732\n",
            "The standard deviation for Test Accuracy: 8.245790\n",
            "The standard deviation for Test Loss: 0.178737\n"
          ]
        }
      ]
    },
    {
      "cell_type": "code",
      "metadata": {
        "id": "eiBYcUoJDp4H"
      },
      "source": [
        "# torch.save(net.state_dict(), \"linear_model\")\n"
      ],
      "execution_count": null,
      "outputs": []
    },
    {
      "cell_type": "code",
      "metadata": {
        "colab": {
          "base_uri": "https://localhost:8080/"
        },
        "id": "XugaEdD7INQ3",
        "outputId": "5a5a4013-27b3-47c3-eb7e-b99f5bb7a735"
      },
      "source": [
        "false_percentage = len(np.where(Y == 0)[0]) / len(Y) * 100\n",
        "print(\"The percentage of false in the dataset is \" + str(false_percentage))"
      ],
      "execution_count": null,
      "outputs": [
        {
          "output_type": "stream",
          "name": "stdout",
          "text": [
            "The percentage of false in the dataset is 18.064516129032256\n"
          ]
        }
      ]
    },
    {
      "cell_type": "code",
      "metadata": {
        "id": "P6IpjmyiroKr"
      },
      "source": [
        "# import csv\n",
        "# with open(\"training_data.log\", mode='a') as file:\n",
        "#     writer = csv.writer(file)\n",
        "#     writer.writerows(train_data)\n",
        "# with open(\"training_labels.log\", mode='a') as file:\n",
        "#     writer = csv.writer(file)\n",
        "#     writer.writerow(train_labels)\n",
        "\n",
        "# with open(\"testing_data.log\", mode='a') as file:\n",
        "#     writer = csv.writer(file)\n",
        "#     writer.writerows(val_data)\n",
        "# with open(\"testing_labels.log\", mode='a') as file:\n",
        "#     writer = csv.writer(file)\n",
        "#     writer.writerow(val_labels)"
      ],
      "execution_count": null,
      "outputs": []
    },
    {
      "cell_type": "code",
      "metadata": {
        "colab": {
          "base_uri": "https://localhost:8080/"
        },
        "id": "F_OPuNWsroKs",
        "outputId": "d248506b-e467-4272-e575-d8f686317d92"
      },
      "source": [
        "count_t = 0\n",
        "count_f = 0\n",
        "correct_t = 0\n",
        "correct_f = 0\n",
        "pred = rounded.detach().cpu().numpy()[:, 0]\n",
        "for i in range(len(pred)):\n",
        "    tmp_pred = pred[i]\n",
        "    tmp_tgt = val_labels[i]\n",
        "    \n",
        "    if tmp_tgt == 1:\n",
        "        count_t += 1\n",
        "        if tmp_tgt == tmp_pred:\n",
        "            correct_t += 1\n",
        "    else:\n",
        "        count_f += 1\n",
        "        if tmp_tgt == tmp_pred:\n",
        "            correct_f += 1\n",
        "    \n",
        "print(\"The accuracy of True cases are: \" + str(100 * (correct_t / count_t)) + \"%\")\n",
        "print(\"The accuracy of False cases are: \" + str(100 * (correct_f / count_f)) + \"%\")\n",
        "\n",
        "print(roc_auc_score(val_labels, pred))"
      ],
      "execution_count": null,
      "outputs": [
        {
          "output_type": "stream",
          "name": "stdout",
          "text": [
            "The accuracy of True cases are: 75.30120481927712%\n",
            "The accuracy of False cases are: 75.0%\n",
            "0.7515060240963856\n"
          ]
        }
      ]
    }
  ]
}