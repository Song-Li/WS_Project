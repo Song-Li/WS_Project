{
 "cells": [
  {
   "cell_type": "code",
   "execution_count": 1,
   "metadata": {
    "executionInfo": {
     "elapsed": 1526,
     "status": "ok",
     "timestamp": 1637903010351,
     "user": {
      "displayName": "Haoyu Shi",
      "photoUrl": "https://lh3.googleusercontent.com/a/default-user=s64",
      "userId": "01316761744078915170"
     },
     "user_tz": 300
    },
    "id": "yB8Orgnnm-3k"
   },
   "outputs": [],
   "source": [
    "#Important Note About Current File:\n",
    "#This code was modified and completed based on A homework I completed myself in the Deep Learning Course taught by Professor Unberath.\n",
    "\n",
    "import numpy as np\n",
    "import torch\n",
    "import torch.nn as nn\n",
    "import torchvision\n",
    "import torchvision.datasets as dataset\n",
    "import torchvision.transforms as transforms\n",
    "import random\n",
    "\n",
    "import matplotlib.pyplot as plt\n",
    "import time\n",
    "%matplotlib inline\n",
    "\n",
    "import matplotlib.pyplot as plt\n",
    "import matplotlib\n",
    "from matplotlib.patches import Polygon\n",
    "from matplotlib.collections import PatchCollection\n",
    "\n",
    "from torch.autograd import Variable\n",
    "import torch.nn.functional as F\n",
    "\n",
    "from sklearn.preprocessing import StandardScaler\n",
    "# from pytorch_lightning.callbacks.early_stopping import EarlyStopping\n",
    "from torchsampler import ImbalancedDatasetSampler\n",
    "\n"
   ]
  },
  {
   "cell_type": "code",
   "execution_count": 2,
   "metadata": {
    "executionInfo": {
     "elapsed": 6,
     "status": "ok",
     "timestamp": 1637903010351,
     "user": {
      "displayName": "Haoyu Shi",
      "photoUrl": "https://lh3.googleusercontent.com/a/default-user=s64",
      "userId": "01316761744078915170"
     },
     "user_tz": 300
    },
    "id": "0C0y-bV74ZNw"
   },
   "outputs": [],
   "source": [
    "file_name = \"aidata.log\"\n",
    "X = []\n",
    "Y = []\n",
    "with open( file_name , \"r\") as file:\n",
    "  for line in file:\n",
    "    line = line.replace(\"[\", \"\")\n",
    "    line = line.replace(\"]\", \",\")\n",
    "    line = line.replace(\"True\", \"1\")\n",
    "    line = line.replace(\"False\", \"0\")\n",
    "    lst = line.split(\",\")\n",
    "    X.append(lst[:-1])\n",
    "    Y.append(lst[-1].strip())\n",
    "    # print(lst[-1])\n",
    "X = np.array(X).astype(int)\n",
    "Y = np.array(Y).astype(int)\n",
    "\n",
    "split_ratio = 0.7\n",
    "split_tr = int(np.ceil(len(X) * split_ratio))\n",
    "split_t = len(X) - split_tr\n",
    "train_data = []\n",
    "val_data = []\n",
    "train_labels = []\n",
    "val_labels = []\n",
    "\n",
    "for i in range(len(Y)):\n",
    "  choice = random.random()\n",
    "  if choice >= split_ratio:\n",
    "    val_data.append(X[i])\n",
    "    val_labels.append(Y[i])\n",
    "  else:\n",
    "    train_data.append(X[i])\n",
    "    train_labels.append(Y[i])\n",
    "\n",
    "train_data = np.array(train_data)\n",
    "val_data = np.array(val_data)\n",
    "train_labels = np.array(train_labels)\n",
    "val_labels = np.array(val_labels)\n",
    "  "
   ]
  },
  {
   "cell_type": "code",
   "execution_count": 3,
   "metadata": {
    "executionInfo": {
     "elapsed": 6,
     "status": "ok",
     "timestamp": 1637903010351,
     "user": {
      "displayName": "Haoyu Shi",
      "photoUrl": "https://lh3.googleusercontent.com/a/default-user=s64",
      "userId": "01316761744078915170"
     },
     "user_tz": 300
    },
    "id": "SsP4_Wyz4Xtt"
   },
   "outputs": [],
   "source": [
    "gpu_boole = torch.cuda.is_available()\n",
    "batch_size, input_dim, hidden_1, hidden_2, hidden_3, hidden_4, hidden_5, output_dim = 32, len(X[0]), 10, 20, 80, 120, 60, 1\n",
    "\n",
    "# np.random.rand(100)"
   ]
  },
  {
   "cell_type": "code",
   "execution_count": 4,
   "metadata": {
    "colab": {
     "base_uri": "https://localhost:8080/"
    },
    "executionInfo": {
     "elapsed": 6,
     "status": "ok",
     "timestamp": 1637903010351,
     "user": {
      "displayName": "Haoyu Shi",
      "photoUrl": "https://lh3.googleusercontent.com/a/default-user=s64",
      "userId": "01316761744078915170"
     },
     "user_tz": 300
    },
    "id": "kGq0q4btm-3q",
    "outputId": "422d5091-3db2-4a0c-ae71-46a4d43312c8"
   },
   "outputs": [
    {
     "name": "stdout",
     "output_type": "stream",
     "text": [
      "(152, 65) (152,) (71, 65) (71,)\n"
     ]
    }
   ],
   "source": [
    "# train_data, val_data = np.split(X, [split_tr])\n",
    "# train_labels, val_labels = np.split(Y, [split_tr])\n",
    "\n",
    "scaler = StandardScaler()\n",
    "train_data_normalized = scaler.fit_transform(train_data)\n",
    "val_data_normalized = scaler.fit_transform(val_data)\n",
    "print(train_data.shape, train_labels.shape, val_data.shape, val_labels.shape)"
   ]
  },
  {
   "cell_type": "code",
   "execution_count": 5,
   "metadata": {
    "executionInfo": {
     "elapsed": 5,
     "status": "ok",
     "timestamp": 1637903010352,
     "user": {
      "displayName": "Haoyu Shi",
      "photoUrl": "https://lh3.googleusercontent.com/a/default-user=s64",
      "userId": "01316761744078915170"
     },
     "user_tz": 300
    },
    "id": "jTrK4smnm-3t"
   },
   "outputs": [],
   "source": [
    "epochs = 200\n",
    "lr = 0.001"
   ]
  },
  {
   "cell_type": "code",
   "execution_count": 6,
   "metadata": {
    "executionInfo": {
     "elapsed": 5,
     "status": "ok",
     "timestamp": 1637903010352,
     "user": {
      "displayName": "Haoyu Shi",
      "photoUrl": "https://lh3.googleusercontent.com/a/default-user=s64",
      "userId": "01316761744078915170"
     },
     "user_tz": 300
    },
    "id": "Kb0OUKDgm-3w"
   },
   "outputs": [],
   "source": [
    "class assign_label(torch.utils.data.Dataset):\n",
    "    def __init__(self, x, y):\n",
    "        self.x = x\n",
    "        self.y = y\n",
    "    def __getitem__(self, i):\n",
    "        return (self.x[i], self.y[i])\n",
    "    def __len__(self):\n",
    "        return len(self.x)\n",
    "    def get_labels(self):\n",
    "        return self.y"
   ]
  },
  {
   "cell_type": "code",
   "execution_count": 7,
   "metadata": {
    "executionInfo": {
     "elapsed": 5,
     "status": "ok",
     "timestamp": 1637903010352,
     "user": {
      "displayName": "Haoyu Shi",
      "photoUrl": "https://lh3.googleusercontent.com/a/default-user=s64",
      "userId": "01316761744078915170"
     },
     "user_tz": 300
    },
    "id": "dqBTPBbkm-3y"
   },
   "outputs": [],
   "source": [
    "training = assign_label(torch.FloatTensor(train_data_normalized),\n",
    "                         torch.FloatTensor(train_labels))\n",
    "testing = assign_label(torch.FloatTensor(val_data_normalized), torch.FloatTensor(val_labels))"
   ]
  },
  {
   "cell_type": "code",
   "execution_count": 8,
   "metadata": {
    "executionInfo": {
     "elapsed": 5,
     "status": "ok",
     "timestamp": 1637903010352,
     "user": {
      "displayName": "Haoyu Shi",
      "photoUrl": "https://lh3.googleusercontent.com/a/default-user=s64",
      "userId": "01316761744078915170"
     },
     "user_tz": 300
    },
    "id": "asEao4hnm-31"
   },
   "outputs": [],
   "source": [
    "train_loader = torch.utils.data.DataLoader(dataset=training, sampler=ImbalancedDatasetSampler(training), batch_size = batch_size, shuffle=False)\n",
    "test_loader = torch.utils.data.DataLoader(dataset=testing, batch_size = batch_size, shuffle=False)"
   ]
  },
  {
   "cell_type": "code",
   "execution_count": 9,
   "metadata": {
    "executionInfo": {
     "elapsed": 6,
     "status": "ok",
     "timestamp": 1637903010353,
     "user": {
      "displayName": "Haoyu Shi",
      "photoUrl": "https://lh3.googleusercontent.com/a/default-user=s64",
      "userId": "01316761744078915170"
     },
     "user_tz": 300
    },
    "id": "dlM0fAn6m-34"
   },
   "outputs": [],
   "source": [
    "class Net(nn.Module):\n",
    "  def __init__(self, input_size, h_1, h_2, h_3, h_4, h_5, num_classes):\n",
    "    super(Net, self).__init__()\n",
    "\n",
    "    ##feedfoward layers:\n",
    "    self.ff1 = nn.Linear(input_size, h_1) #input\n",
    "\n",
    "    self.ff2 = nn.Linear(h_1, h_2) #hidden layers\n",
    "\n",
    "    self.ff3 = nn.Linear(h_2, h_3)\n",
    "    \n",
    "    self.ff4 = nn.Linear(h_3, h_4)\n",
    "    \n",
    "    self.ff5 = nn.Linear(h_4, h_5)\n",
    "    \n",
    "    self.ff_out = nn.Linear(h_5, num_classes) #logit layer     \n",
    "\n",
    "    ##activations:\n",
    "    self.sigmoid = nn.Sigmoid()\n",
    "    self.relu = nn.ReLU()\n",
    "                \n",
    "  def forward(self, input_data):\n",
    "    #out = self.relu(self.ff1(input_data))\n",
    "    #out = self.relu(self.ff2(out))\n",
    "    out = self.sigmoid(self.ff1(input_data))\n",
    "    \n",
    "    out = self.sigmoid(self.ff2(out))\n",
    "    out = self.sigmoid(self.ff3(out))\n",
    "    out = self.sigmoid(self.ff4(out))\n",
    "    out = self.sigmoid(self.ff5(out))\n",
    "    \n",
    "    out = self.ff_out(out)\n",
    "    return out #returns class probabilities for each set of data"
   ]
  },
  {
   "cell_type": "code",
   "execution_count": 10,
   "metadata": {
    "executionInfo": {
     "elapsed": 2654,
     "status": "ok",
     "timestamp": 1637903013002,
     "user": {
      "displayName": "Haoyu Shi",
      "photoUrl": "https://lh3.googleusercontent.com/a/default-user=s64",
      "userId": "01316761744078915170"
     },
     "user_tz": 300
    },
    "id": "yuwGh-mXm-36"
   },
   "outputs": [],
   "source": [
    "net = Net(input_size=input_dim, h_1=hidden_1, h_2=hidden_2, h_3= hidden_3, h_4 = hidden_4, h_5 = hidden_5, num_classes=output_dim)\n",
    "if gpu_boole:\n",
    "    net.cuda()\n",
    "loss_metric = nn.BCEWithLogitsLoss()\n",
    "#optimizer = torch.optim.SGD(net.parameters(), lr = 0.001, momentum = 0.9, weight_decay = 0.001, dampening = 0.000002, nesterov = False)\n",
    "optimizer = torch.optim.Adam(net.parameters(), lr = lr)"
   ]
  },
  {
   "cell_type": "code",
   "execution_count": null,
   "metadata": {
    "colab": {
     "base_uri": "https://localhost:8080/"
    },
    "executionInfo": {
     "elapsed": 7944,
     "status": "ok",
     "timestamp": 1637903020945,
     "user": {
      "displayName": "Haoyu Shi",
      "photoUrl": "https://lh3.googleusercontent.com/a/default-user=s64",
      "userId": "01316761744078915170"
     },
     "user_tz": 300
    },
    "id": "ZbxV7Q_hm-39",
    "outputId": "de09ebb0-5cbe-40d2-f9d6-432fec8f66ea"
   },
   "outputs": [],
   "source": [
    "def weights_init(m):\n",
    "    if isinstance(m, nn.Conv2d) or isinstance(m, nn.Linear):\n",
    "        torch.nn.init.xavier_uniform(m.weight.data)\n",
    "torch.manual_seed(4)\n",
    "weights_init(net)\n",
    "net.train()\n",
    "\n",
    "loss_batch_store = []\n",
    "time_start = time.time()\n",
    "training_acc_store = []\n",
    "testing_acc_store = []\n",
    "testing_loss_store = []\n",
    "test_acc_max = 0.0\n",
    "count = 0\n",
    "ending_epoch = 0\n",
    "for epoch in range(epochs):\n",
    "    current_loss = 0\n",
    "    correct = 0\n",
    "    testing_acc = 0\n",
    "    testing_loss = 0\n",
    "    time1 = time.time()\n",
    "    for i, (x, y) in enumerate(train_loader):\n",
    "        \n",
    "        if gpu_boole:\n",
    "            x = x.cuda()\n",
    "            y = y.cuda()\n",
    "        optimizer.zero_grad()\n",
    "        \n",
    "        outputs = net.forward(x)\n",
    "        loss = loss_metric(outputs, y.unsqueeze(1))\n",
    "        loss.backward()\n",
    "        optimizer.step()\n",
    "        \n",
    "    for d, l in train_loader:\n",
    "\n",
    "        if gpu_boole:\n",
    "            d = d.cuda()\n",
    "            l = l.cuda()\n",
    "        outputs = net.forward(d)\n",
    "        loss = loss_metric(outputs, l.unsqueeze(1))\n",
    "\n",
    "        current_loss = loss.item()\n",
    "        # print(loss.grad)\n",
    "        rounded_train = torch.round(torch.sigmoid(outputs))\n",
    "        \n",
    "        correct = 100 * (((rounded_train == l.unsqueeze(1)).sum().float()) / l.size(0))\n",
    "        \n",
    "        \n",
    "            \n",
    "    for d, l in test_loader:\n",
    "\n",
    "        if gpu_boole:\n",
    "            d = d.cuda()\n",
    "            l = l.cuda()\n",
    "        outputs_test = net.forward(d)\n",
    "        loss_test = loss_metric(outputs_test, l.unsqueeze(1))\n",
    "\n",
    "        testing_loss = loss_test.item()\n",
    "        rounded_test = torch.round(torch.sigmoid(outputs_test))\n",
    "        \n",
    "        testing_acc = 100 * (((rounded_test == l.unsqueeze(1)).sum().float()) / l.size(0))\n",
    "        \n",
    "        \n",
    "    \n",
    "    time2 = time.time()\n",
    "    if i > 0 or epoch > 0:\n",
    "            training_acc_store.append(correct.cpu().data.numpy())\n",
    "    if i > 0 or epoch > 0:\n",
    "            loss_batch_store.append(current_loss) \n",
    "    if i > 0 or epoch > 0:\n",
    "            testing_acc_store.append(testing_acc.cpu().data.numpy())\n",
    "    if i > 0 or epoch > 0:\n",
    "            testing_loss_store.append(testing_loss)\n",
    "    # if testing_acc > test_acc_max:\n",
    "    #   test_acc_max = testing_acc\n",
    "    #   count = 0\n",
    "    # else:\n",
    "    #   count += 1\n",
    "    \n",
    "    print(\"Epoch\",epoch+1,':')\n",
    "    \n",
    "    print('Train accuracy: %f %%' % (correct))\n",
    "    print('Train loss: %f' % (current_loss / batch_size))\n",
    "    \n",
    "    print('Test accuracy: %f %%' % (testing_acc))\n",
    "    print('Test loss: %f' % (testing_loss / batch_size))\n",
    "    \n",
    "    print('Elapsed time for epoch:',time2 - time1,'s')\n",
    "    print('ETA of completion:',(time2 - time1)*(epochs - epoch - 1)/60,'minutes')\n",
    "\n",
    "time_end = time.time()\n",
    "print ('Time elapsed:', (time_end - time_start) / 60, 'minutes')\n",
    "# print(\"Training completed after \" + str(ending_epoch) + \" epochs.\")    "
   ]
  },
  {
   "cell_type": "code",
   "execution_count": 12,
   "metadata": {
    "colab": {
     "base_uri": "https://localhost:8080/"
    },
    "executionInfo": {
     "elapsed": 31,
     "status": "ok",
     "timestamp": 1637903020946,
     "user": {
      "displayName": "Haoyu Shi",
      "photoUrl": "https://lh3.googleusercontent.com/a/default-user=s64",
      "userId": "01316761744078915170"
     },
     "user_tz": 300
    },
    "id": "sJeiQi_Fm-3_",
    "outputId": "bb77cad9-6c3a-45ac-c604-b8c8bb2eb0ab"
   },
   "outputs": [
    {
     "name": "stdout",
     "output_type": "stream",
     "text": [
      "Test accuracy: 90.140846 %\n",
      "Test loss: 0.010695\n"
     ]
    }
   ],
   "source": [
    "net.eval()\n",
    "\n",
    "x = torch.FloatTensor(val_data_normalized)      \n",
    "y = torch.FloatTensor(val_labels)\n",
    "\n",
    "if gpu_boole:\n",
    "    x = x.cuda()\n",
    "    y = y.cuda()\n",
    "outputs = net.forward(x)\n",
    "loss = loss_metric(outputs, y.unsqueeze(1))\n",
    "\n",
    "current_loss = loss.item()\n",
    "rounded = torch.round(torch.sigmoid(outputs))\n",
    "        \n",
    "correct = 100 * (((rounded == y.unsqueeze(1)).sum().float()) / y.size(0))\n",
    "\n",
    "print('Test accuracy: %f %%' % (correct))\n",
    "print('Test loss: %f' % (current_loss / batch_size))"
   ]
  },
  {
   "cell_type": "code",
   "execution_count": 13,
   "metadata": {
    "colab": {
     "base_uri": "https://localhost:8080/",
     "height": 279
    },
    "executionInfo": {
     "elapsed": 815,
     "status": "ok",
     "timestamp": 1637903021752,
     "user": {
      "displayName": "Haoyu Shi",
      "photoUrl": "https://lh3.googleusercontent.com/a/default-user=s64",
      "userId": "01316761744078915170"
     },
     "user_tz": 300
    },
    "id": "HQ-Verp_m-4C",
    "outputId": "d67e9c28-77d9-4c86-ca2b-62871a75e1a1"
   },
   "outputs": [
    {
     "data": {
      "image/png": "[encoded data removed]",
      "text/plain": [
       "<Figure size 432x288 with 1 Axes>"
      ]
     },
     "metadata": {
      "needs_background": "light"
     },
     "output_type": "display_data"
    }
   ],
   "source": [
    "plt.plot(loss_batch_store, '-o', label = 'train_loss', color = 'blue')\n",
    "plt.xlabel('Epoch Number')\n",
    "plt.ylabel('Training Loss for seed 4')\n",
    "plt.legend()\n",
    "plt.show()"
   ]
  },
  {
   "cell_type": "code",
   "execution_count": 14,
   "metadata": {
    "colab": {
     "base_uri": "https://localhost:8080/",
     "height": 279
    },
    "executionInfo": {
     "elapsed": 4,
     "status": "ok",
     "timestamp": 1637903021752,
     "user": {
      "displayName": "Haoyu Shi",
      "photoUrl": "https://lh3.googleusercontent.com/a/default-user=s64",
      "userId": "01316761744078915170"
     },
     "user_tz": 300
    },
    "id": "GQ3qbKB0m-4E",
    "outputId": "35d664fb-c16b-4044-a4d0-19cb2f02f87e"
   },
   "outputs": [
    {
     "data": {
      "image/png": "[encoded data removed]",
      "text/plain": [
       "<Figure size 432x288 with 1 Axes>"
      ]
     },
     "metadata": {
      "needs_background": "light"
     },
     "output_type": "display_data"
    }
   ],
   "source": [
    "plt.plot(training_acc_store, '-o', label = 'train_accuracy', color = 'blue')\n",
    "plt.xlabel('Epoch Number')\n",
    "plt.ylabel('Training Accuracy for seed 4')\n",
    "plt.legend()\n",
    "plt.show()"
   ]
  },
  {
   "cell_type": "code",
   "execution_count": 15,
   "metadata": {
    "colab": {
     "base_uri": "https://localhost:8080/",
     "height": 279
    },
    "executionInfo": {
     "elapsed": 4,
     "status": "ok",
     "timestamp": 1637903021753,
     "user": {
      "displayName": "Haoyu Shi",
      "photoUrl": "https://lh3.googleusercontent.com/a/default-user=s64",
      "userId": "01316761744078915170"
     },
     "user_tz": 300
    },
    "id": "N1yJ1XNEm-4K",
    "outputId": "55b3e209-dc4b-4f7a-9afa-617ee18ead82"
   },
   "outputs": [
    {
     "data": {
      "image/png": "[encoded data removed]",
      "text/plain": [
       "<Figure size 432x288 with 1 Axes>"
      ]
     },
     "metadata": {
      "needs_background": "light"
     },
     "output_type": "display_data"
    }
   ],
   "source": [
    "plt.plot(testing_loss_store, '-o', label = 'test_loss', color = 'blue')\n",
    "plt.xlabel('Epoch Number')\n",
    "plt.ylabel('Testing Loss for seed 4')\n",
    "plt.legend()\n",
    "plt.show()"
   ]
  },
  {
   "cell_type": "code",
   "execution_count": 16,
   "metadata": {
    "colab": {
     "base_uri": "https://localhost:8080/",
     "height": 279
    },
    "executionInfo": {
     "elapsed": 568,
     "status": "ok",
     "timestamp": 1637903022317,
     "user": {
      "displayName": "Haoyu Shi",
      "photoUrl": "https://lh3.googleusercontent.com/a/default-user=s64",
      "userId": "01316761744078915170"
     },
     "user_tz": 300
    },
    "id": "AC5SiKnCm-4N",
    "outputId": "bf723bfb-95f5-449c-d6b0-aa59a4090b30"
   },
   "outputs": [
    {
     "data": {
      "image/png": "[encoded data removed]",
      "text/plain": [
       "<Figure size 432x288 with 1 Axes>"
      ]
     },
     "metadata": {
      "needs_background": "light"
     },
     "output_type": "display_data"
    }
   ],
   "source": [
    "plt.plot(testing_acc_store, '-o', label = 'test_accuracy', color = 'blue')\n",
    "plt.xlabel('Epoch Number')\n",
    "plt.ylabel('Testing Accuracy for seed 4')\n",
    "plt.legend()\n",
    "plt.show()"
   ]
  },
  {
   "cell_type": "code",
   "execution_count": 17,
   "metadata": {
    "colab": {
     "base_uri": "https://localhost:8080/"
    },
    "executionInfo": {
     "elapsed": 8,
     "status": "ok",
     "timestamp": 1637903022317,
     "user": {
      "displayName": "Haoyu Shi",
      "photoUrl": "https://lh3.googleusercontent.com/a/default-user=s64",
      "userId": "01316761744078915170"
     },
     "user_tz": 300
    },
    "id": "pZNsx0wqpwVn",
    "outputId": "00e69858-804e-408c-fd99-91ad21fb8e22"
   },
   "outputs": [
    {
     "name": "stdout",
     "output_type": "stream",
     "text": [
      "The mean for Train Accuracy: 79.562500\n",
      "The mean for Train Loss: 0.446130\n",
      "The mean for Test Accuracy: 68.285721\n",
      "The mean for Test Loss: 0.630113\n"
     ]
    }
   ],
   "source": [
    "print ('The mean for Train Accuracy: %f' % (np.mean(np.array(training_acc_store))))\n",
    "print ('The mean for Train Loss: %f' % (np.mean(np.array(loss_batch_store))))\n",
    "print ('The mean for Test Accuracy: %f' % (np.mean(np.array(testing_acc_store))))\n",
    "print ('The mean for Test Loss: %f' % (np.mean(np.array(testing_loss_store))))"
   ]
  },
  {
   "cell_type": "code",
   "execution_count": 18,
   "metadata": {
    "colab": {
     "base_uri": "https://localhost:8080/"
    },
    "executionInfo": {
     "elapsed": 7,
     "status": "ok",
     "timestamp": 1637903022317,
     "user": {
      "displayName": "Haoyu Shi",
      "photoUrl": "https://lh3.googleusercontent.com/a/default-user=s64",
      "userId": "01316761744078915170"
     },
     "user_tz": 300
    },
    "id": "WEow7B0npxJc",
    "outputId": "5457ae6a-1c33-4e71-b4b2-beaa59e0b00b"
   },
   "outputs": [
    {
     "name": "stdout",
     "output_type": "stream",
     "text": [
      "The standard deviation for Train Accuracy: 17.408480\n",
      "The standard deviation for Train Loss: 0.181043\n",
      "The standard deviation for Test Accuracy: 26.998112\n",
      "The standard deviation for Test Loss: 0.084340\n"
     ]
    }
   ],
   "source": [
    "print ('The standard deviation for Train Accuracy: %f' % (np.std(np.array(training_acc_store))))\n",
    "print ('The standard deviation for Train Loss: %f' % (np.mean(np.std(loss_batch_store))))\n",
    "print ('The standard deviation for Test Accuracy: %f' % (np.std(np.array(testing_acc_store))))\n",
    "print ('The standard deviation for Test Loss: %f' % (np.std(np.array(testing_loss_store))))"
   ]
  },
  {
   "cell_type": "code",
   "execution_count": 19,
   "metadata": {
    "executionInfo": {
     "elapsed": 6,
     "status": "ok",
     "timestamp": 1637903022317,
     "user": {
      "displayName": "Haoyu Shi",
      "photoUrl": "https://lh3.googleusercontent.com/a/default-user=s64",
      "userId": "01316761744078915170"
     },
     "user_tz": 300
    },
    "id": "eiBYcUoJDp4H"
   },
   "outputs": [],
   "source": [
    "# torch.save(net.state_dict(), \"linear_model\")\n"
   ]
  },
  {
   "cell_type": "code",
   "execution_count": 20,
   "metadata": {
    "colab": {
     "base_uri": "https://localhost:8080/"
    },
    "executionInfo": {
     "elapsed": 6,
     "status": "ok",
     "timestamp": 1637903022318,
     "user": {
      "displayName": "Haoyu Shi",
      "photoUrl": "https://lh3.googleusercontent.com/a/default-user=s64",
      "userId": "01316761744078915170"
     },
     "user_tz": 300
    },
    "id": "XugaEdD7INQ3",
    "outputId": "ca3ab8ed-b2be-4593-9e8b-2264010cf6ac"
   },
   "outputs": [
    {
     "name": "stdout",
     "output_type": "stream",
     "text": [
      "The percentage of false in the dataset is 5.381165919282512\n"
     ]
    }
   ],
   "source": [
    "false_percentage = len(np.where(Y == 0)[0]) / len(Y) * 100\n",
    "print(\"The percentage of false in the dataset is \" + str(false_percentage))"
   ]
  },
  {
   "cell_type": "code",
   "execution_count": null,
   "metadata": {
    "colab": {
     "base_uri": "https://localhost:8080/"
    },
    "executionInfo": {
     "elapsed": 6,
     "status": "ok",
     "timestamp": 1637903022318,
     "user": {
      "displayName": "Haoyu Shi",
      "photoUrl": "https://lh3.googleusercontent.com/a/default-user=s64",
      "userId": "01316761744078915170"
     },
     "user_tz": 300
    },
    "id": "SP0FfXPsk6Rv",
    "outputId": "4686c395-f8f8-447e-9990-501928636bb5"
   },
   "outputs": [],
   "source": [
    "print(rounded)"
   ]
  },
  {
   "cell_type": "code",
   "execution_count": 29,
   "metadata": {},
   "outputs": [
    {
     "name": "stdout",
     "output_type": "stream",
     "text": [
      "(array([ 1, 12, 26, 49, 53]),)\n"
     ]
    }
   ],
   "source": [
    "print(np.where(val_labels==0))"
   ]
  },
  {
   "cell_type": "code",
   "execution_count": 39,
   "metadata": {},
   "outputs": [
    {
     "name": "stdout",
     "output_type": "stream",
     "text": [
      "(array([12, 15, 26, 43, 60, 66]),)\n"
     ]
    }
   ],
   "source": [
    "pred = rounded.detach().cpu().numpy()[:, 0]\n",
    "print(np.where(pred==0))"
   ]
  },
  {
   "cell_type": "code",
   "execution_count": 27,
   "metadata": {},
   "outputs": [],
   "source": [
    "# import csv\n",
    "# with open(\"training_data.log\", mode='a') as file:\n",
    "#     writer = csv.writer(file)\n",
    "#     writer.writerows(train_data)\n",
    "# with open(\"training_labels.log\", mode='a') as file:\n",
    "#     writer = csv.writer(file)\n",
    "#     writer.writerow(train_labels)\n",
    "\n",
    "# with open(\"testing_data.log\", mode='a') as file:\n",
    "#     writer = csv.writer(file)\n",
    "#     writer.writerows(val_data)\n",
    "# with open(\"testing_labels.log\", mode='a') as file:\n",
    "#     writer = csv.writer(file)\n",
    "#     writer.writerow(val_labels)"
   ]
  },
  {
   "cell_type": "code",
   "execution_count": 41,
   "metadata": {},
   "outputs": [
    {
     "name": "stdout",
     "output_type": "stream",
     "text": [
      "The accuracy of True cases are: 93.93939393939394%\n",
      "The accuracy of False cases are: 40.0%\n"
     ]
    }
   ],
   "source": [
    "count_t = 0\n",
    "count_f = 0\n",
    "correct_t = 0\n",
    "correct_f = 0\n",
    "\n",
    "for i in range(len(pred)):\n",
    "    tmp_pred = pred[i]\n",
    "    tmp_tgt = val_labels[i]\n",
    "    \n",
    "    if tmp_tgt == 1:\n",
    "        count_t += 1\n",
    "        if tmp_tgt == tmp_pred:\n",
    "            correct_t += 1\n",
    "    else:\n",
    "        count_f += 1\n",
    "        if tmp_tgt == tmp_pred:\n",
    "            correct_f += 1\n",
    "    \n",
    "print(\"The accuracy of True cases are: \" + str(100 * (correct_t / count_t)) + \"%\")\n",
    "print(\"The accuracy of False cases are: \" + str(100 * (correct_f / count_f)) + \"%\")"
   ]
  }
 ],
 "metadata": {
  "accelerator": "GPU",
  "colab": {
   "collapsed_sections": [],
   "name": "WS_Project.ipynb",
   "provenance": []
  },
  "kernelspec": {
   "display_name": "Python 3",
   "language": "python",
   "name": "python3"
  },
  "language_info": {
   "codemirror_mode": {
    "name": "ipython",
    "version": 3
   },
   "file_extension": ".py",
   "mimetype": "text/x-python",
   "name": "python",
   "nbconvert_exporter": "python",
   "pygments_lexer": "ipython3",
   "version": "3.8.5"
  }
 },
 "nbformat": 4,
 "nbformat_minor": 4
}
